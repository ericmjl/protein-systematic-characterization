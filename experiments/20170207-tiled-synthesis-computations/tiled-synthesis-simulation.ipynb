{
 "cells": [
  {
   "cell_type": "markdown",
   "metadata": {},
   "source": [
    "- Stitch together all tiles based on graph connections\n",
    "- Calculate how many sequences are desired originals"
   ]
  },
  {
   "cell_type": "code",
   "execution_count": 51,
   "metadata": {
    "collapsed": false
   },
   "outputs": [
    {
     "data": {
      "text/plain": [
       "['TTGAGAGGGTTCCTCATTATAGGTAAAGAAGACAGAAGATACGGACCAGCATTAAGCATCAATGAACTGAGTAACCTTGCAAAAGGGGAAAAGGCTAATGTGCTAATTGGGCAAGGAGACGTGGTGTTGGTAATGAAACGGAAACGGGACTCTAGTATACTTACTGACAGCCAGACAGCGACCAAAAGAATTCGGATGGCCATCAATTAA',\n",
       " 'TTGAGAGGGTTCCTCATTATAGGTAAGGAAGACAGAAGATACGGACCAGCATTAAGCATCAATGAACTGAGTAACCTTGCAAAAGGGGAAAAGGCTAATGTGCTAATCGGGCAAGGAGACGTGGTGTTGGTAATGAAACGAAAACGGAACTCTAGCATACTTACTGACAGCCAGACAGCGACCAAAAGAATTCGGATGGCCATCAATTAA',\n",
       " 'TTGAGAGGGTTCCTCATTATAGGTAAGGAGGACAGAAGGTACGGACCAGCATTAAGCATCAATGAACTGAGTAACCTTGCAAAAGGGGAAAAGGCTAATGTGCTAATCGGGCAAGGAGATGTGGTGTTGGTAATGAAACGAAAACGGGACTCTAGCATACTTACTGACAGCCAGACAGCGACCAAAAGAATTCGGATGGCCATCAATTAA',\n",
       " 'TTGAGAGGGTTCCTCATTATAGGTAAAGAAGACAGAAGATACGGACCAGCATTAAGCATCAATGAACTGAGTAACCTTGCAAAAGGGGAAAAGGCTAATGTGCTAATTGGGCAAGGAGACGTGGTGTTGGTAATGAAACGAAAACGGGACTCTAGTATACTTACTGACAGCCAGACAGCGACCAAAAGAATTCGGATGGCCATCAATTAA',\n",
       " 'TTGAGAGGGTTTCTCATTATAGGTAAGGAAGACAGAAGATACGGACCAGCATTAAGCATCAATGAACTGAGCAACCTTGCAAAAGGGGAAAAGGCTAATGTGCTAATAGGGCAAGGAGACGTGGTGTTGGTAATGAAACGAAAACGGGACTCTAGCATACTTACTGACAGCCAGACAGCGACCAAAAGAATTCGGATGGCCATCAATTAA']"
      ]
     },
     "execution_count": 51,
     "metadata": {},
     "output_type": "execute_result"
    }
   ],
   "source": [
    "import networkx as nx\n",
    "from itertools import combinations\n",
    "from difflib import SequenceMatcher\n",
    "from Bio.Seq import Seq\n",
    "import generate_tiles_basic as gt\n",
    "\n",
    "tiles = gt.generate_tiles(gt.get_seqs(\"AllUniqueDNA.fasta\"), gt.TILE_LENGTH, gt.OVERLAP, gt.TEMPLATE)\n",
    "THRESHOLD = 0.9\n",
    "start = len(gt.start_overlap)\n",
    "end = -len(gt.end_overlap)\n",
    "seq_list = [seq for seq in tiles.values()]\n",
    "tile_list = []\n",
    "for seq in seq_list[:5]:\n",
    "    for i, tile in enumerate(seq):\n",
    "        if i == 0:\n",
    "            tile_list.append([i, tile[start:]])\n",
    "        elif i == len(seq)-1:\n",
    "            tile_list.append([i, tile[:end]])\n",
    "        else:\n",
    "            tile_list.append([i, tile])\n",
    "sources = []\n",
    "targets = []\n",
    "for tile in tile_list:\n",
    "    if tile[0] == 0:\n",
    "        sources.append(tile[1])\n",
    "    elif tile[0] == 10:\n",
    "        targets.append(tile[1])\n",
    "targets"
   ]
  },
  {
   "cell_type": "code",
   "execution_count": 52,
   "metadata": {
    "collapsed": false,
    "scrolled": true
   },
   "outputs": [],
   "source": [
    "def similar(overlap1, overlap2):\n",
    "    return SequenceMatcher(None, overlap1, overlap2).ratio()\n",
    "#make this a class\n",
    "\n",
    "def gen_graph(tile_list, overlap, threshold, sources, targets):\n",
    "    T = nx.DiGraph()\n",
    "    T.add_nodes_from(tile_list)\n",
    "    \n",
    "    for tile1 in tile_list:\n",
    "        for tile2 in tile_list:\n",
    "            if similar(tile1[-overlap:], tile2[:overlap]) > threshold:\n",
    "                T.add_edge(tile1[:-overlap], tile2)\n",
    "\n",
    "    paths = []\n",
    "    for source in sources:\n",
    "        for target in targets:\n",
    "            for path in nx.all_simple_paths(T, source, target):\n",
    "                print(path)\n",
    "            #paths.append([path for path in nx.all_simple_paths(T, source, target)])\n",
    "    return paths\n",
    "\n",
    "paths = gen_graph([tile[1] for tile in tile_list], gt.OVERLAP, THRESHOLD, sources, targets)\n"
   ]
  },
  {
   "cell_type": "code",
   "execution_count": null,
   "metadata": {
    "collapsed": true
   },
   "outputs": [],
   "source": []
  },
  {
   "cell_type": "code",
   "execution_count": 44,
   "metadata": {
    "collapsed": false
   },
   "outputs": [],
   "source": []
  },
  {
   "cell_type": "code",
   "execution_count": 79,
   "metadata": {
    "collapsed": true
   },
   "outputs": [],
   "source": []
  },
  {
   "cell_type": "code",
   "execution_count": null,
   "metadata": {
    "collapsed": false,
    "scrolled": false
   },
   "outputs": [],
   "source": [
    "\n",
    "\n"
   ]
  },
  {
   "cell_type": "code",
   "execution_count": null,
   "metadata": {
    "collapsed": true
   },
   "outputs": [],
   "source": [
    "handle = open(in_file, 'w')\n",
    "        SeqIO.write(records, handle, \"fasta\")\n",
    "        out_file = \"aligned.clustal\"\n",
    "        clustalomega_cline = cmd(infile=in_file, outfile=out_file, verbose=True, auto=True, outfmt=\"fasta\", force=True, seqtype=\"DNA\")\n",
    "        clustalomega_cline()"
   ]
  },
  {
   "cell_type": "code",
   "execution_count": null,
   "metadata": {
    "collapsed": true
   },
   "outputs": [],
   "source": [
    "#dictionary of lengths of overlaps attached to each tile number"
   ]
  }
 ],
 "metadata": {
  "anaconda-cloud": {},
  "kernelspec": {
   "display_name": "Python [conda root]",
   "language": "python",
   "name": "conda-root-py"
  },
  "language_info": {
   "codemirror_mode": {
    "name": "ipython",
    "version": 3
   },
   "file_extension": ".py",
   "mimetype": "text/x-python",
   "name": "python",
   "nbconvert_exporter": "python",
   "pygments_lexer": "ipython3",
   "version": "3.5.2"
  }
 },
 "nbformat": 4,
 "nbformat_minor": 1
}
