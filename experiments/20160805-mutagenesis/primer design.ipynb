{
 "cells": [
  {
   "cell_type": "markdown",
   "metadata": {},
   "source": [
    "# Mutagenesis primer design\n",
    "\n",
    "The goal here is to design primers for mutagenesis on PB2.\n",
    "\n",
    "The specific PB2 sequence that we are going to use is `A/Victoria/361/2011`."
   ]
  },
  {
   "cell_type": "code",
   "execution_count": 1,
   "metadata": {
    "collapsed": false
   },
   "outputs": [],
   "source": [
    "%load_ext autoreload\n",
    "%autoreload 2\n",
    "\n",
    "from Bio import SeqIO"
   ]
  },
  {
   "cell_type": "code",
   "execution_count": 2,
   "metadata": {
    "collapsed": true
   },
   "outputs": [],
   "source": [
    "def report(seqrecord):\n",
    "    print(seqrecord)\n",
    "    print('Length: {0} n.t.'.format(len(seqrecord.seq)))"
   ]
  },
  {
   "cell_type": "markdown",
   "metadata": {},
   "source": [
    "Load the Victoria PB2 sequence:"
   ]
  },
  {
   "cell_type": "code",
   "execution_count": 3,
   "metadata": {
    "collapsed": false
   },
   "outputs": [
    {
     "name": "stdout",
     "output_type": "stream",
     "text": [
      "ID: A/Victoria/361/2011|KJ942687\n",
      "Name: A/Victoria/361/2011|KJ942687\n",
      "Description: A/Victoria/361/2011|KJ942687\n",
      "Number of features: 0\n",
      "Seq('AGCAAAAGCAGGTCAATTATATTCAGTATGGAAAGAATAAAAGAACTACGGAAT...TAC', SingleLetterAlphabet())\n",
      "Length: 2340 n.t.\n"
     ]
    }
   ],
   "source": [
    "vicpb2 = SeqIO.read('../../data/victoria-pb2.fasta', 'fasta')\n",
    "report(vicpb2)"
   ]
  },
  {
   "cell_type": "markdown",
   "metadata": {},
   "source": [
    "Load the pCI sequence:"
   ]
  },
  {
   "cell_type": "code",
   "execution_count": 4,
   "metadata": {
    "collapsed": false
   },
   "outputs": [
    {
     "name": "stdout",
     "output_type": "stream",
     "text": [
      "ID: pCI\n",
      "Name: pCI\n",
      "Description: pCI\n",
      "Number of features: 0\n",
      "Seq('ACGCGTGGTACCTCTAGAGTCGACCCGGGCGGCCGCTTCGAGCAGACATGATAA...GAG', SingleLetterAlphabet())\n",
      "Length: 4001 n.t.\n"
     ]
    }
   ],
   "source": [
    "pCI = SeqIO.read('../../data/pCI.fasta', 'fasta')\n",
    "report(pCI)"
   ]
  },
  {
   "cell_type": "markdown",
   "metadata": {},
   "source": [
    "Define a split at the 1/3 and 2/3 mark of the Victoria PB2 and pCI sequences. This is a backup measure just in case full amplification does not work."
   ]
  },
  {
   "cell_type": "code",
   "execution_count": 5,
   "metadata": {
    "collapsed": false
   },
   "outputs": [
    {
     "data": {
      "text/plain": [
       "1560"
      ]
     },
     "execution_count": 5,
     "metadata": {},
     "output_type": "execute_result"
    }
   ],
   "source": [
    "def splits(seqrecord, frac1):\n",
    "    return round(len(seqrecord.seq) * frac1)\n",
    "vicpb2_split1 = splits(vicpb2, 1/3)\n",
    "vicpb2_split1\n",
    "\n",
    "vicpb2_split2 = splits(vicpb2, 2/3)\n",
    "vicpb2_split2"
   ]
  },
  {
   "cell_type": "code",
   "execution_count": 6,
   "metadata": {
    "collapsed": false
   },
   "outputs": [
    {
     "data": {
      "text/plain": [
       "2667"
      ]
     },
     "execution_count": 6,
     "metadata": {},
     "output_type": "execute_result"
    }
   ],
   "source": [
    "pCI_split1 = splits(pCI, 1/3)\n",
    "pCI_split1\n",
    "\n",
    "pCI_split2 = splits(pCI, 2/3)\n",
    "pCI_split2"
   ]
  },
  {
   "cell_type": "code",
   "execution_count": 7,
   "metadata": {
    "collapsed": false
   },
   "outputs": [
    {
     "data": {
      "text/plain": [
       "(SeqRecord(seq=Seq('AGCAAAAGCAGGTCAATTATATTCAGTATGGAAAGAATAAAAGAACTACGGAAT...AGG', SingleLetterAlphabet()), id='A/Victoria/361/2011|KJ942687_part1', name='<unknown name>', description='<unknown description>', dbxrefs=[]),\n",
       " SeqRecord(seq=Seq('AATGACGATGTTGACCAAAGCCTAATTATTGCGGCCAGGAACATAGTAAGAAGA...TAC', SingleLetterAlphabet()), id='A/Victoria/361/2011|KJ942687_part2', name='<unknown name>', description='<unknown description>', dbxrefs=[]))"
      ]
     },
     "execution_count": 7,
     "metadata": {},
     "output_type": "execute_result"
    }
   ],
   "source": [
    "from Bio.SeqRecord import SeqRecord\n",
    "\n",
    "def split_seqrecord(seqrecord, split_location):\n",
    "    split1 = SeqRecord(seqrecord.seq[0:split_location], id='{0}_part1'.format(seqrecord.id))\n",
    "    split2 = SeqRecord(seqrecord.seq[split_location:], id='{0}_part2'.format(seqrecord.id))\n",
    "    \n",
    "    return split1, split2\n",
    "    \n",
    "    \n",
    "vicpb2_split1_part1, vicpb2_split1_part2 = split_seqrecord(vicpb2, vicpb2_split1)\n",
    "vicpb2_split1_part1, vicpb2_split1_part2"
   ]
  },
  {
   "cell_type": "code",
   "execution_count": 8,
   "metadata": {
    "collapsed": false
   },
   "outputs": [
    {
     "data": {
      "text/plain": [
       "(SeqRecord(seq=Seq('AGCAAAAGCAGGTCAATTATATTCAGTATGGAAAGAATAAAAGAACTACGGAAT...GTA', SingleLetterAlphabet()), id='A/Victoria/361/2011|KJ942687_part1', name='<unknown name>', description='<unknown description>', dbxrefs=[]),\n",
       " SeqRecord(seq=Seq('TTATTATCTCCTGAGGAGGTCAGTGAAACACAGGGAACTGAGAGACTGACAATA...TAC', SingleLetterAlphabet()), id='A/Victoria/361/2011|KJ942687_part2', name='<unknown name>', description='<unknown description>', dbxrefs=[]))"
      ]
     },
     "execution_count": 8,
     "metadata": {},
     "output_type": "execute_result"
    }
   ],
   "source": [
    "vicpb2_split2_part1, vicpb2_split2_part2 = split_seqrecord(vicpb2, vicpb2_split2)\n",
    "vicpb2_split2_part1, vicpb2_split2_part2"
   ]
  },
  {
   "cell_type": "code",
   "execution_count": 9,
   "metadata": {
    "collapsed": false
   },
   "outputs": [
    {
     "data": {
      "text/plain": [
       "(SeqRecord(seq=Seq('ACGCGTGGTACCTCTAGAGTCGACCCGGGCGGCCGCTTCGAGCAGACATGATAA...GAA', SingleLetterAlphabet()), id='pCI_part1', name='<unknown name>', description='<unknown description>', dbxrefs=[]),\n",
       " SeqRecord(seq=Seq('AGTAAAAGATGCTGAAGATCAGTTGGGTGCACGAGTGGGTTACATCGAACTGGA...GAG', SingleLetterAlphabet()), id='pCI_part2', name='<unknown name>', description='<unknown description>', dbxrefs=[]))"
      ]
     },
     "execution_count": 9,
     "metadata": {},
     "output_type": "execute_result"
    }
   ],
   "source": [
    "pCI_split1_part1, pCI_split1_part2 = split_seqrecord(pCI, pCI_split1)\n",
    "pCI_split1_part1, pCI_split1_part2"
   ]
  },
  {
   "cell_type": "code",
   "execution_count": 10,
   "metadata": {
    "collapsed": false
   },
   "outputs": [
    {
     "data": {
      "text/plain": [
       "(SeqRecord(seq=Seq('ACGCGTGGTACCTCTAGAGTCGACCCGGGCGGCCGCTTCGAGCAGACATGATAA...GAG', SingleLetterAlphabet()), id='pCI_part1', name='<unknown name>', description='<unknown description>', dbxrefs=[]),\n",
       " SeqRecord(seq=Seq('CTATGAGAAAGCGCCACGCTTCCCGAAGGGAGAAAGGCGGACAGGTATCCGGTA...GAG', SingleLetterAlphabet()), id='pCI_part2', name='<unknown name>', description='<unknown description>', dbxrefs=[]))"
      ]
     },
     "execution_count": 10,
     "metadata": {},
     "output_type": "execute_result"
    }
   ],
   "source": [
    "pCI_split2_part1, pCI_split2_part2 = split_seqrecord(pCI, pCI_split2)\n",
    "pCI_split2_part1, pCI_split2_part2"
   ]
  },
  {
   "cell_type": "markdown",
   "metadata": {},
   "source": [
    "Steps:\n",
    "1. Compute primers for full amplification.\n",
    "2. Compute primers for amplification using split PB2 gene.\n",
    "3. Compute primers for amplification using split pCI backbone."
   ]
  },
  {
   "cell_type": "code",
   "execution_count": 11,
   "metadata": {
    "collapsed": true
   },
   "outputs": [],
   "source": [
    "from mbtools.assembly import GibsonAssembler"
   ]
  },
  {
   "cell_type": "code",
   "execution_count": 12,
   "metadata": {
    "collapsed": false
   },
   "outputs": [
    {
     "name": "stdout",
     "output_type": "stream",
     "text": [
      "A/Victoria/361/2011|KJ942687 2366\n",
      "pCI 4027\n"
     ]
    },
    {
     "name": "stderr",
     "output_type": "stream",
     "text": [
      "/Users/ericmjl/anaconda/envs/mbtools/lib/python3.5/site-packages/Bio/Seq.py:150: BiopythonWarning: Biopython Seq objects now use string comparison. Older versions of Biopython used object comparison. During this transition, please use hash(id(my_seq)) or my_dict[id(my_seq)] if you want the old behaviour, or use hash(str(my_seq)) or my_dict[str(my_seq)] for the new string hashing behaviour.\n",
      "  \"the new string hashing behaviour.\", BiopythonWarning)\n"
     ]
    }
   ],
   "source": [
    "# Assembly 1: Scenario where VicPB2 and pCI are amplified full-length.\n",
    "assembly1 = GibsonAssembler([vicpb2, pCI])\n",
    "for part, product in assembly1.pcr_products().items():\n",
    "    print(part, len(product))"
   ]
  },
  {
   "cell_type": "code",
   "execution_count": 13,
   "metadata": {
    "collapsed": false,
    "scrolled": true
   },
   "outputs": [
    {
     "name": "stdout",
     "output_type": "stream",
     "text": [
      "A/Victoria/361/2011|KJ942687_part1 806\n",
      "pCI 4027\n",
      "A/Victoria/361/2011|KJ942687_part2 1586\n"
     ]
    },
    {
     "name": "stderr",
     "output_type": "stream",
     "text": [
      "/Users/ericmjl/anaconda/envs/mbtools/lib/python3.5/site-packages/Bio/Seq.py:150: BiopythonWarning: Biopython Seq objects now use string comparison. Older versions of Biopython used object comparison. During this transition, please use hash(id(my_seq)) or my_dict[id(my_seq)] if you want the old behaviour, or use hash(str(my_seq)) or my_dict[str(my_seq)] for the new string hashing behaviour.\n",
      "  \"the new string hashing behaviour.\", BiopythonWarning)\n"
     ]
    }
   ],
   "source": [
    "# Assembly 2: Scenario where VicPB2 is split into two parts at the 1/3 point.\n",
    "assembly2 = GibsonAssembler([vicpb2_split1_part1, vicpb2_split1_part2, pCI])\n",
    "for part, product in assembly2.pcr_products().items():\n",
    "    print(part, len(product))"
   ]
  },
  {
   "cell_type": "code",
   "execution_count": 14,
   "metadata": {
    "collapsed": false
   },
   "outputs": [
    {
     "name": "stderr",
     "output_type": "stream",
     "text": [
      "/Users/ericmjl/anaconda/envs/mbtools/lib/python3.5/site-packages/Bio/Seq.py:150: BiopythonWarning: Biopython Seq objects now use string comparison. Older versions of Biopython used object comparison. During this transition, please use hash(id(my_seq)) or my_dict[id(my_seq)] if you want the old behaviour, or use hash(str(my_seq)) or my_dict[str(my_seq)] for the new string hashing behaviour.\n",
      "  \"the new string hashing behaviour.\", BiopythonWarning)\n"
     ]
    },
    {
     "name": "stdout",
     "output_type": "stream",
     "text": [
      "A/Victoria/361/2011|KJ942687_part1 806\n",
      "pCI_part2 2693\n",
      "pCI_part1 1360\n",
      "A/Victoria/361/2011|KJ942687_part2 1586\n"
     ]
    }
   ],
   "source": [
    "# Assembly 3: Scenario where VicPB2 and pCI are split each at their 1/3 points.\n",
    "assembly3 = GibsonAssembler([vicpb2_split1_part1, vicpb2_split1_part2, pCI_split1_part1, pCI_split1_part2])\n",
    "for part, product in assembly3.pcr_products().items():\n",
    "    print(part, len(product))"
   ]
  },
  {
   "cell_type": "code",
   "execution_count": 15,
   "metadata": {
    "collapsed": false
   },
   "outputs": [
    {
     "name": "stdout",
     "output_type": "stream",
     "text": [
      "pCI_part2 1360\n",
      "A/Victoria/361/2011|KJ942687_part1 1586\n",
      "pCI_part1 2693\n",
      "A/Victoria/361/2011|KJ942687_part2 806\n"
     ]
    },
    {
     "name": "stderr",
     "output_type": "stream",
     "text": [
      "/Users/ericmjl/anaconda/envs/mbtools/lib/python3.5/site-packages/Bio/Seq.py:150: BiopythonWarning: Biopython Seq objects now use string comparison. Older versions of Biopython used object comparison. During this transition, please use hash(id(my_seq)) or my_dict[id(my_seq)] if you want the old behaviour, or use hash(str(my_seq)) or my_dict[str(my_seq)] for the new string hashing behaviour.\n",
      "  \"the new string hashing behaviour.\", BiopythonWarning)\n"
     ]
    }
   ],
   "source": [
    "# Assembly 4: Scenario where VicPB2 and pCI are split each at their 2/3 points.\n",
    "assembly4 = GibsonAssembler([vicpb2_split2_part1, vicpb2_split2_part2, pCI_split2_part1, pCI_split2_part2])\n",
    "for part, product in assembly4.pcr_products().items():\n",
    "    print(part, len(product))"
   ]
  },
  {
   "cell_type": "code",
   "execution_count": 16,
   "metadata": {
    "collapsed": false,
    "scrolled": false
   },
   "outputs": [],
   "source": [
    "assembly4_primers = []\n",
    "for part, primers in assembly4.primers().items():\n",
    "    for primer, sequence in primers.items():\n",
    "        prec = dict()\n",
    "        prec['part'] = part\n",
    "        prec['primer'] = primer\n",
    "        prec['sequence'] = str(sequence)\n",
    "        assembly4_primers.append(prec)"
   ]
  },
  {
   "cell_type": "markdown",
   "metadata": {},
   "source": [
    "Check the primers into the database."
   ]
  },
  {
   "cell_type": "code",
   "execution_count": 17,
   "metadata": {
    "collapsed": false
   },
   "outputs": [],
   "source": [
    "from tinydb import TinyDB, Query\n",
    "\n",
    "primerdb = TinyDB('../../data/primers.db.json')"
   ]
  },
  {
   "cell_type": "code",
   "execution_count": 18,
   "metadata": {
    "collapsed": true
   },
   "outputs": [],
   "source": [
    "for primer in assembly4_primers:\n",
    "    p = Query()\n",
    "    if not primerdb.contains(p.sequence == primer['sequence']):\n",
    "        primerdb.insert(primer)\n",
    "        print('Inserting ', primer)"
   ]
  },
  {
   "cell_type": "code",
   "execution_count": 19,
   "metadata": {
    "collapsed": false
   },
   "outputs": [
    {
     "data": {
      "text/plain": [
       "16"
      ]
     },
     "execution_count": 19,
     "metadata": {},
     "output_type": "execute_result"
    }
   ],
   "source": [
    "len(primerdb)"
   ]
  },
  {
   "cell_type": "markdown",
   "metadata": {},
   "source": [
    "Export the primers to be ordered."
   ]
  },
  {
   "cell_type": "code",
   "execution_count": 20,
   "metadata": {
    "collapsed": false
   },
   "outputs": [],
   "source": [
    "import pandas as pd\n",
    "primers_to_order = primerdb.all()\n",
    "for p in primers_to_order:\n",
    "    eid = primerdb.get(Query().sequence == p['sequence']).eid\n",
    "    p['primer_id'] = 'EM-{0}'.format(eid)\n",
    "pd.DataFrame(primers_to_order).to_csv('primers.csv')"
   ]
  },
  {
   "cell_type": "markdown",
   "metadata": {
    "collapsed": true
   },
   "source": [
    "In this cloning reaction, there will be a backbone that needs to be amplified using Phusion (not mutated), and an insert that needs to be amplified using the Agilent GeneMorph II enzyme. I will compute separate PCR protocols here."
   ]
  },
  {
   "cell_type": "code",
   "execution_count": 21,
   "metadata": {
    "collapsed": false
   },
   "outputs": [],
   "source": [
    "# First, I will set up the Agilent amplification conditions.\n",
    "\n",
    "from mbtools.pcr import input_plasmid_mass, input_volume, num_cycles\n",
    "\n",
    "import math\n",
    "\n",
    "mut_freq = 'low'\n",
    "\n",
    "mut_freq_mass = dict(low=500, med=100, high=50)\n",
    "mut_freq_fold = dict(low=5, med=100, high=5000)\n",
    "\n",
    "target_length = len(vicpb2)\n",
    "plasmid_length = len(vicpb2) + len(pCI)\n",
    "target_mass = mut_freq_mass['low']\n",
    "\n",
    "plasmid_mass = input_plasmid_mass(target_length, plasmid_length, target_mass)\n",
    "\n",
    "plasmid_conc = 416  # in units ng/µL\n",
    "volume = input_volume(plasmid_mass, plasmid_conc)\n",
    "\n",
    "fold_amp = mut_freq_fold[mut_freq]\n",
    "num_cycles = num_cycles(fold_amp)\n",
    "cycle_time = math.ceil(target_length / 1000)"
   ]
  },
  {
   "cell_type": "code",
   "execution_count": 22,
   "metadata": {
    "collapsed": false
   },
   "outputs": [
    {
     "data": {
      "text/plain": [
       "3"
      ]
     },
     "execution_count": 22,
     "metadata": {},
     "output_type": "execute_result"
    }
   ],
   "source": [
    "cycle_time  # in minutes"
   ]
  },
  {
   "cell_type": "code",
   "execution_count": 23,
   "metadata": {
    "collapsed": false
   },
   "outputs": [
    {
     "data": {
      "text/plain": [
       "3"
      ]
     },
     "execution_count": 23,
     "metadata": {},
     "output_type": "execute_result"
    }
   ],
   "source": [
    "num_cycles  # an integer"
   ]
  },
  {
   "cell_type": "code",
   "execution_count": 24,
   "metadata": {
    "collapsed": false
   },
   "outputs": [
    {
     "data": {
      "text/plain": [
       "5"
      ]
     },
     "execution_count": 24,
     "metadata": {},
     "output_type": "execute_result"
    }
   ],
   "source": [
    "fold_amp "
   ]
  },
  {
   "cell_type": "code",
   "execution_count": 25,
   "metadata": {
    "collapsed": false
   },
   "outputs": [
    {
     "data": {
      "text/plain": [
       "3.2570060815253123"
      ]
     },
     "execution_count": 25,
     "metadata": {},
     "output_type": "execute_result"
    }
   ],
   "source": [
    "volume"
   ]
  },
  {
   "cell_type": "code",
   "execution_count": 26,
   "metadata": {
    "collapsed": false
   },
   "outputs": [
    {
     "data": {
      "text/plain": [
       "defaultdict(dict,\n",
       "            {'A/Victoria/361/2011|KJ942687': {'3p_sequencing': Seq('GTGTTGGTAATGAAACGAAA', SingleLetterAlphabet()),\n",
       "              '5p_sequencing': Seq('AATTATGGCCATATGGTCCA', SingleLetterAlphabet()),\n",
       "              'fw_gibson': Seq('GGCTAGCCTCGAGAGCAAAAGCAGGTCAATTATATTCAGT', SingleLetterAlphabet()),\n",
       "              're_gibson': Seq('AGGTACCACGCGTGTAGAAACAAGGTCGTTTTTAAACTAT', SingleLetterAlphabet())},\n",
       "             'pCI': {'3p_sequencing': Seq('GCACCTATTGGTCTTACTGA', SingleLetterAlphabet()),\n",
       "              '5p_sequencing': Seq('TTTCACAAATAAAGCATTTT', SingleLetterAlphabet()),\n",
       "              'fw_gibson': Seq('ACCTTGTTTCTACACGCGTGGTACCTCTAGAGTCGACCCG', SingleLetterAlphabet()),\n",
       "              're_gibson': Seq('ACCTGCTTTTGCTCTCGAGGCTAGCCTATAGTGAGTCGTA', SingleLetterAlphabet())}})"
      ]
     },
     "execution_count": 26,
     "metadata": {},
     "output_type": "execute_result"
    }
   ],
   "source": [
    "# Get primers out from each of the reactions.\n",
    "a1_primers = assembly1.primers()\n",
    "a1_primers"
   ]
  },
  {
   "cell_type": "code",
   "execution_count": 27,
   "metadata": {
    "collapsed": false
   },
   "outputs": [
    {
     "data": {
      "text/plain": [
       "40"
      ]
     },
     "execution_count": 27,
     "metadata": {},
     "output_type": "execute_result"
    }
   ],
   "source": [
    "# Match up the Fw_gibson and Re_gibson primers for each template.\n",
    "len(a1_primers['pCI']['fw_gibson'])"
   ]
  },
  {
   "cell_type": "code",
   "execution_count": 34,
   "metadata": {
    "collapsed": true
   },
   "outputs": [],
   "source": [
    "def pprint_primers(primer_set):\n",
    "    for tmplt, prmrs in primer_set.items():\n",
    "        print(tmplt)\n",
    "        for prmr, sqnc in prmrs.items():\n",
    "            if 'gibson' in prmr:\n",
    "                # print(prmr)\n",
    "                p = Query()\n",
    "                eid = primerdb.get(p.sequence == str(sqnc)).eid\n",
    "                print('  Primer: {0}'.format(prmr))\n",
    "                print('  Primer ID:  EM-{0}'.format(eid))\n",
    "                print('  Tm:         {0:.1f}ºC'.format(Tm_NN(sqnc)))"
   ]
  },
  {
   "cell_type": "code",
   "execution_count": 35,
   "metadata": {
    "collapsed": false,
    "scrolled": true
   },
   "outputs": [
    {
     "name": "stdout",
     "output_type": "stream",
     "text": [
      "A/Victoria/361/2011|KJ942687\n",
      "  Primer: re_gibson\n",
      "  Primer ID:  EM-2\n",
      "  Tm:         63.8ºC\n",
      "  Primer: fw_gibson\n",
      "  Primer ID:  EM-11\n",
      "  Tm:         64.9ºC\n",
      "pCI\n",
      "  Primer: re_gibson\n",
      "  Primer ID:  EM-6\n",
      "  Tm:         67.1ºC\n",
      "  Primer: fw_gibson\n",
      "  Primer ID:  EM-15\n",
      "  Tm:         68.7ºC\n"
     ]
    }
   ],
   "source": [
    "from Bio.SeqUtils.MeltingTemp import Tm_Wallace, Tm_staluc, Tm_NN\n",
    "pprint_primers(a1_primers)"
   ]
  },
  {
   "cell_type": "markdown",
   "metadata": {},
   "source": [
    "We will amplify Victoria PB2 using EM-2 and EM-11 on the mutagenesis kit, and amplify pCI using EM-6 and EM-15 using Phusion GC master-mix."
   ]
  },
  {
   "cell_type": "code",
   "execution_count": 36,
   "metadata": {
    "collapsed": false
   },
   "outputs": [
    {
     "data": {
      "text/plain": [
       "2.0135"
      ]
     },
     "execution_count": 36,
     "metadata": {},
     "output_type": "execute_result"
    }
   ],
   "source": [
    "# The PCR protocol for pCI is dependent on the length of the PCR product.\n",
    "\n",
    "bases_per_min = 2000\n",
    "\n",
    "len(assembly1.pcr_products()['pCI']) / bases_per_min"
   ]
  },
  {
   "cell_type": "code",
   "execution_count": 37,
   "metadata": {
    "collapsed": false
   },
   "outputs": [
    {
     "data": {
      "text/plain": [
       "defaultdict(dict,\n",
       "            {'A/Victoria/361/2011|KJ942687_part1': {'3p_sequencing': Seq('GAGATGTCAATGAGAGGAAT', SingleLetterAlphabet()),\n",
       "              '5p_sequencing': Seq('AATTATGGCCATATGGTCCA', SingleLetterAlphabet()),\n",
       "              'fw_gibson': Seq('GGCTAGCCTCGAGAGCAAAAGCAGGTCAATTATATTCAGT', SingleLetterAlphabet()),\n",
       "              're_gibson': Seq('CAGGAGATAATAATACATTCCCACGTTGGTCTCGAACTCT', SingleLetterAlphabet())},\n",
       "             'A/Victoria/361/2011|KJ942687_part2': {'3p_sequencing': Seq('GTGTTGGTAATGAAACGAAA', SingleLetterAlphabet()),\n",
       "              '5p_sequencing': Seq('TTGATAGGTATTGACCAAAA', SingleLetterAlphabet()),\n",
       "              'fw_gibson': Seq('ACGTGGGAATGTATTATTATCTCCTGAGGAGGTCAGTGAA', SingleLetterAlphabet()),\n",
       "              're_gibson': Seq('AGGTACCACGCGTGTAGAAACAAGGTCGTTTTTAAACTAT', SingleLetterAlphabet())},\n",
       "             'pCI_part1': {'3p_sequencing': Seq('TTGGACTCAAGACGATAGTT', SingleLetterAlphabet()),\n",
       "              '5p_sequencing': Seq('TTTCACAAATAAAGCATTTT', SingleLetterAlphabet()),\n",
       "              'fw_gibson': Seq('ACCTTGTTTCTACACGCGTGGTACCTCTAGAGTCGACCCG', SingleLetterAlphabet()),\n",
       "              're_gibson': Seq('CGCTTTCTCATAGCTCACGCTGTAGGTATCTCAGTTCGGT', SingleLetterAlphabet())},\n",
       "             'pCI_part2': {'3p_sequencing': Seq('GCACCTATTGGTCTTACTGA', SingleLetterAlphabet()),\n",
       "              '5p_sequencing': Seq('ATAAAGATACCAGGCGTTTC', SingleLetterAlphabet()),\n",
       "              'fw_gibson': Seq('CCTACAGCGTGAGCTATGAGAAAGCGCCACGCTTCCCGAA', SingleLetterAlphabet()),\n",
       "              're_gibson': Seq('ACCTGCTTTTGCTCTCGAGGCTAGCCTATAGTGAGTCGTA', SingleLetterAlphabet())}})"
      ]
     },
     "execution_count": 37,
     "metadata": {},
     "output_type": "execute_result"
    }
   ],
   "source": [
    "# Get primers out from each of the reactions.\n",
    "a4_primers = assembly4.primers()\n",
    "a4_primers"
   ]
  },
  {
   "cell_type": "code",
   "execution_count": 38,
   "metadata": {
    "collapsed": false
   },
   "outputs": [
    {
     "name": "stdout",
     "output_type": "stream",
     "text": [
      "pCI_part2\n",
      "  Primer: re_gibson\n",
      "  Primer ID:  EM-6\n",
      "  Tm:         67.1ºC\n",
      "  Primer: fw_gibson\n",
      "  Primer ID:  EM-7\n",
      "  Tm:         71.0ºC\n",
      "A/Victoria/361/2011|KJ942687_part1\n",
      "  Primer: re_gibson\n",
      "  Primer ID:  EM-10\n",
      "  Tm:         63.0ºC\n",
      "  Primer: fw_gibson\n",
      "  Primer ID:  EM-11\n",
      "  Tm:         64.9ºC\n",
      "pCI_part1\n",
      "  Primer: re_gibson\n",
      "  Primer ID:  EM-14\n",
      "  Tm:         66.7ºC\n",
      "  Primer: fw_gibson\n",
      "  Primer ID:  EM-15\n",
      "  Tm:         68.7ºC\n",
      "A/Victoria/361/2011|KJ942687_part2\n",
      "  Primer: re_gibson\n",
      "  Primer ID:  EM-2\n",
      "  Tm:         63.8ºC\n",
      "  Primer: fw_gibson\n",
      "  Primer ID:  EM-3\n",
      "  Tm:         63.4ºC\n"
     ]
    }
   ],
   "source": [
    "pprint_primers(a4_primers)"
   ]
  },
  {
   "cell_type": "code",
   "execution_count": 39,
   "metadata": {
    "collapsed": false
   },
   "outputs": [
    {
     "name": "stdout",
     "output_type": "stream",
     "text": [
      "pCI_part2 1360\n",
      "A/Victoria/361/2011|KJ942687_part1 1586\n",
      "pCI_part1 2693\n",
      "A/Victoria/361/2011|KJ942687_part2 806\n"
     ]
    }
   ],
   "source": [
    "for part, seq in assembly4.pcr_products().items():\n",
    "    print(part, len(seq))"
   ]
  },
  {
   "cell_type": "code",
   "execution_count": null,
   "metadata": {
    "collapsed": true
   },
   "outputs": [],
   "source": []
  }
 ],
 "metadata": {
  "kernelspec": {
   "display_name": "Python 3",
   "language": "python",
   "name": "python3"
  },
  "language_info": {
   "codemirror_mode": {
    "name": "ipython",
    "version": 3
   },
   "file_extension": ".py",
   "mimetype": "text/x-python",
   "name": "python",
   "nbconvert_exporter": "python",
   "pygments_lexer": "ipython3",
   "version": "3.5.2"
  }
 },
 "nbformat": 4,
 "nbformat_minor": 0
}
