{
 "cells": [
  {
   "cell_type": "markdown",
   "metadata": {},
   "source": [
    "# Mutagenesis primer design\n",
    "\n",
    "The goal here is to design primers for mutagenesis on PB2.\n",
    "\n",
    "The specific PB2 sequence that we are going to use is `A/Victoria/361/2011`."
   ]
  },
  {
   "cell_type": "code",
   "execution_count": 1,
   "metadata": {
    "collapsed": false
   },
   "outputs": [],
   "source": [
    "%load_ext autoreload\n",
    "%autoreload 2\n",
    "\n",
    "from Bio import SeqIO"
   ]
  },
  {
   "cell_type": "code",
   "execution_count": 2,
   "metadata": {
    "collapsed": true
   },
   "outputs": [],
   "source": [
    "def report(seqrecord):\n",
    "    print(seqrecord)\n",
    "    print('Length: {0} n.t.'.format(len(seqrecord.seq)))"
   ]
  },
  {
   "cell_type": "markdown",
   "metadata": {},
   "source": [
    "Load the Victoria PB2 sequence:"
   ]
  },
  {
   "cell_type": "code",
   "execution_count": 3,
   "metadata": {
    "collapsed": false
   },
   "outputs": [
    {
     "name": "stdout",
     "output_type": "stream",
     "text": [
      "ID: A/Victoria/361/2011|KJ942687\n",
      "Name: A/Victoria/361/2011|KJ942687\n",
      "Description: A/Victoria/361/2011|KJ942687\n",
      "Number of features: 0\n",
      "Seq('AGCAAAAGCAGGTCAATTATATTCAGTATGGAAAGAATAAAAGAACTACGGAAT...TAC', SingleLetterAlphabet())\n",
      "Length: 2340 n.t.\n"
     ]
    }
   ],
   "source": [
    "vicpb2 = SeqIO.read('../../data/victoria-pb2.fasta', 'fasta')\n",
    "report(vicpb2)"
   ]
  },
  {
   "cell_type": "markdown",
   "metadata": {},
   "source": [
    "Load the pCI sequence:"
   ]
  },
  {
   "cell_type": "code",
   "execution_count": 4,
   "metadata": {
    "collapsed": false
   },
   "outputs": [
    {
     "name": "stdout",
     "output_type": "stream",
     "text": [
      "ID: pCI\n",
      "Name: pCI\n",
      "Description: pCI\n",
      "Number of features: 0\n",
      "Seq('ACGCGTGGTACCTCTAGAGTCGACCCGGGCGGCCGCTTCGAGCAGACATGATAA...GAG', SingleLetterAlphabet())\n",
      "Length: 4001 n.t.\n"
     ]
    }
   ],
   "source": [
    "pCI = SeqIO.read('../../data/pCI.fasta', 'fasta')\n",
    "report(pCI)"
   ]
  },
  {
   "cell_type": "markdown",
   "metadata": {},
   "source": [
    "Define a split at the 1/3 and 2/3 mark of the Victoria PB2 and pCI sequences. This is a backup measure just in case full amplification does not work."
   ]
  },
  {
   "cell_type": "code",
   "execution_count": 5,
   "metadata": {
    "collapsed": false
   },
   "outputs": [
    {
     "data": {
      "text/plain": [
       "1560"
      ]
     },
     "execution_count": 5,
     "metadata": {},
     "output_type": "execute_result"
    }
   ],
   "source": [
    "def splits(seqrecord, frac1):\n",
    "    return round(len(seqrecord.seq) * frac1)\n",
    "vicpb2_split1 = splits(vicpb2, 1/3)\n",
    "vicpb2_split1\n",
    "\n",
    "vicpb2_split2 = splits(vicpb2, 2/3)\n",
    "vicpb2_split2"
   ]
  },
  {
   "cell_type": "code",
   "execution_count": 6,
   "metadata": {
    "collapsed": false
   },
   "outputs": [
    {
     "data": {
      "text/plain": [
       "2667"
      ]
     },
     "execution_count": 6,
     "metadata": {},
     "output_type": "execute_result"
    }
   ],
   "source": [
    "pCI_split1 = splits(pCI, 1/3)\n",
    "pCI_split1\n",
    "\n",
    "pCI_split2 = splits(pCI, 2/3)\n",
    "pCI_split2"
   ]
  },
  {
   "cell_type": "markdown",
   "metadata": {},
   "source": [
    "Also define a 2/5 and 3/5 split mark for the Victoria PB2 sequence. (Based on the latest PCR results, the Assembly 4 split point doesn't work.)"
   ]
  },
  {
   "cell_type": "code",
   "execution_count": 7,
   "metadata": {
    "collapsed": false
   },
   "outputs": [
    {
     "name": "stdout",
     "output_type": "stream",
     "text": [
      "936 1404\n"
     ]
    }
   ],
   "source": [
    "vicpb2_split3 = splits(vicpb2, 2/5)\n",
    "vicpb2_split4 = splits(vicpb2, 3/5)\n",
    "\n",
    "print(vicpb2_split3, vicpb2_split4)"
   ]
  },
  {
   "cell_type": "code",
   "execution_count": 8,
   "metadata": {
    "collapsed": false
   },
   "outputs": [
    {
     "data": {
      "text/plain": [
       "(780, 1560)"
      ]
     },
     "execution_count": 8,
     "metadata": {},
     "output_type": "execute_result"
    }
   ],
   "source": [
    "\n",
    "from Bio.SeqRecord import SeqRecord\n",
    "\n",
    "def split_seqrecord(seqrecord, split_location):\n",
    "    split1 = SeqRecord(seqrecord.seq[0:split_location], id='{0}_part1'.format(seqrecord.id))\n",
    "    split2 = SeqRecord(seqrecord.seq[split_location:], id='{0}_part2'.format(seqrecord.id))\n",
    "    \n",
    "    return split1, split2\n",
    "    \n",
    "# Create the split parts based on vicpb2 split 1 (this is the 1/3 mark)\n",
    "vicpb2_split1_part1, vicpb2_split1_part2 = split_seqrecord(vicpb2, vicpb2_split1)\n",
    "len(vicpb2_split1_part1), len(vicpb2_split1_part2)"
   ]
  },
  {
   "cell_type": "code",
   "execution_count": 9,
   "metadata": {
    "collapsed": false
   },
   "outputs": [
    {
     "data": {
      "text/plain": [
       "(1560, 780)"
      ]
     },
     "execution_count": 9,
     "metadata": {},
     "output_type": "execute_result"
    }
   ],
   "source": [
    "# Create the split parts based on vicpb2 split 2 (this is the 2/3 mark)\n",
    "vicpb2_split2_part1, vicpb2_split2_part2 = split_seqrecord(vicpb2, vicpb2_split2)\n",
    "len(vicpb2_split2_part1), len(vicpb2_split2_part2)"
   ]
  },
  {
   "cell_type": "code",
   "execution_count": 10,
   "metadata": {
    "collapsed": false
   },
   "outputs": [
    {
     "data": {
      "text/plain": [
       "(936, 1404)"
      ]
     },
     "execution_count": 10,
     "metadata": {},
     "output_type": "execute_result"
    }
   ],
   "source": [
    "# Create the split parts based on vicpb2 split 3 (this is the 2/5 mark)\n",
    "vicpb2_split3_part1, vicpb2_split3_part2 = split_seqrecord(vicpb2, vicpb2_split3)\n",
    "len(vicpb2_split3_part1), len(vicpb2_split3_part2)"
   ]
  },
  {
   "cell_type": "code",
   "execution_count": 11,
   "metadata": {
    "collapsed": false
   },
   "outputs": [
    {
     "data": {
      "text/plain": [
       "(1404, 936)"
      ]
     },
     "execution_count": 11,
     "metadata": {},
     "output_type": "execute_result"
    }
   ],
   "source": [
    "# Create the split parts based on vicpb2 split 4 (this is the 3/5 mark)\n",
    "vicpb2_split4_part1, vicpb2_split4_part2 = split_seqrecord(vicpb2, vicpb2_split4)\n",
    "len(vicpb2_split4_part1), len(vicpb2_split4_part2)"
   ]
  },
  {
   "cell_type": "code",
   "execution_count": 12,
   "metadata": {
    "collapsed": false
   },
   "outputs": [
    {
     "data": {
      "text/plain": [
       "(SeqRecord(seq=Seq('ACGCGTGGTACCTCTAGAGTCGACCCGGGCGGCCGCTTCGAGCAGACATGATAA...GAA', SingleLetterAlphabet()), id='pCI_part1', name='<unknown name>', description='<unknown description>', dbxrefs=[]),\n",
       " SeqRecord(seq=Seq('AGTAAAAGATGCTGAAGATCAGTTGGGTGCACGAGTGGGTTACATCGAACTGGA...GAG', SingleLetterAlphabet()), id='pCI_part2', name='<unknown name>', description='<unknown description>', dbxrefs=[]))"
      ]
     },
     "execution_count": 12,
     "metadata": {},
     "output_type": "execute_result"
    }
   ],
   "source": [
    "# Create the split parts based on pCI split 1\n",
    "pCI_split1_part1, pCI_split1_part2 = split_seqrecord(pCI, pCI_split1)\n",
    "pCI_split1_part1, pCI_split1_part2"
   ]
  },
  {
   "cell_type": "code",
   "execution_count": 13,
   "metadata": {
    "collapsed": false
   },
   "outputs": [
    {
     "data": {
      "text/plain": [
       "(SeqRecord(seq=Seq('ACGCGTGGTACCTCTAGAGTCGACCCGGGCGGCCGCTTCGAGCAGACATGATAA...GAG', SingleLetterAlphabet()), id='pCI_part1', name='<unknown name>', description='<unknown description>', dbxrefs=[]),\n",
       " SeqRecord(seq=Seq('CTATGAGAAAGCGCCACGCTTCCCGAAGGGAGAAAGGCGGACAGGTATCCGGTA...GAG', SingleLetterAlphabet()), id='pCI_part2', name='<unknown name>', description='<unknown description>', dbxrefs=[]))"
      ]
     },
     "execution_count": 13,
     "metadata": {},
     "output_type": "execute_result"
    }
   ],
   "source": [
    "# Create the split parts based on pCI split 2\n",
    "pCI_split2_part1, pCI_split2_part2 = split_seqrecord(pCI, pCI_split2)\n",
    "pCI_split2_part1, pCI_split2_part2"
   ]
  },
  {
   "cell_type": "markdown",
   "metadata": {},
   "source": [
    "Steps:\n",
    "1. Compute primers for full amplification.\n",
    "2. Compute primers for amplification using split PB2 gene.\n",
    "3. Compute primers for amplification using split pCI backbone."
   ]
  },
  {
   "cell_type": "code",
   "execution_count": 14,
   "metadata": {
    "collapsed": true
   },
   "outputs": [],
   "source": [
    "from mbtools.assembly import GibsonAssembler"
   ]
  },
  {
   "cell_type": "code",
   "execution_count": 15,
   "metadata": {
    "collapsed": false
   },
   "outputs": [
    {
     "name": "stdout",
     "output_type": "stream",
     "text": [
      "pCI 4041\n",
      "A/Victoria/361/2011|KJ942687 2380\n"
     ]
    },
    {
     "name": "stderr",
     "output_type": "stream",
     "text": [
      "/Users/ericmjl/anaconda/envs/mbtools/lib/python3.5/site-packages/Bio/Seq.py:150: BiopythonWarning: Biopython Seq objects now use string comparison. Older versions of Biopython used object comparison. During this transition, please use hash(id(my_seq)) or my_dict[id(my_seq)] if you want the old behaviour, or use hash(str(my_seq)) or my_dict[str(my_seq)] for the new string hashing behaviour.\n",
      "  \"the new string hashing behaviour.\", BiopythonWarning)\n"
     ]
    }
   ],
   "source": [
    "# Assembly 1: Scenario where VicPB2 and pCI are amplified full-length.\n",
    "assembly1 = GibsonAssembler([vicpb2, pCI])\n",
    "for part, product in assembly1.pcr_products().items():\n",
    "    print(part, len(product))"
   ]
  },
  {
   "cell_type": "code",
   "execution_count": 16,
   "metadata": {
    "collapsed": false,
    "scrolled": true
   },
   "outputs": [
    {
     "name": "stderr",
     "output_type": "stream",
     "text": [
      "/Users/ericmjl/anaconda/envs/mbtools/lib/python3.5/site-packages/Bio/Seq.py:150: BiopythonWarning: Biopython Seq objects now use string comparison. Older versions of Biopython used object comparison. During this transition, please use hash(id(my_seq)) or my_dict[id(my_seq)] if you want the old behaviour, or use hash(str(my_seq)) or my_dict[str(my_seq)] for the new string hashing behaviour.\n",
      "  \"the new string hashing behaviour.\", BiopythonWarning)\n"
     ]
    },
    {
     "name": "stdout",
     "output_type": "stream",
     "text": [
      "pCI 4041\n",
      "A/Victoria/361/2011|KJ942687_part2 1600\n",
      "A/Victoria/361/2011|KJ942687_part1 820\n"
     ]
    }
   ],
   "source": [
    "# Assembly 2: Scenario where VicPB2 is split into two parts at the 1/3 point.\n",
    "assembly2 = GibsonAssembler([vicpb2_split1_part1, vicpb2_split1_part2, pCI])\n",
    "for part, product in assembly2.pcr_products().items():\n",
    "    print(part, len(product))"
   ]
  },
  {
   "cell_type": "code",
   "execution_count": 17,
   "metadata": {
    "collapsed": false
   },
   "outputs": [
    {
     "name": "stderr",
     "output_type": "stream",
     "text": [
      "/Users/ericmjl/anaconda/envs/mbtools/lib/python3.5/site-packages/Bio/Seq.py:150: BiopythonWarning: Biopython Seq objects now use string comparison. Older versions of Biopython used object comparison. During this transition, please use hash(id(my_seq)) or my_dict[id(my_seq)] if you want the old behaviour, or use hash(str(my_seq)) or my_dict[str(my_seq)] for the new string hashing behaviour.\n",
      "  \"the new string hashing behaviour.\", BiopythonWarning)\n"
     ]
    },
    {
     "name": "stdout",
     "output_type": "stream",
     "text": [
      "pCI_part2 2707\n",
      "pCI_part1 1374\n",
      "A/Victoria/361/2011|KJ942687_part2 1600\n",
      "A/Victoria/361/2011|KJ942687_part1 820\n"
     ]
    }
   ],
   "source": [
    "# Assembly 3: Scenario where VicPB2 and pCI are split each at their 1/3 points.\n",
    "assembly3 = GibsonAssembler([vicpb2_split1_part1, vicpb2_split1_part2, pCI_split1_part1, pCI_split1_part2])\n",
    "for part, product in assembly3.pcr_products().items():\n",
    "    print(part, len(product))"
   ]
  },
  {
   "cell_type": "code",
   "execution_count": 18,
   "metadata": {
    "collapsed": false
   },
   "outputs": [
    {
     "name": "stderr",
     "output_type": "stream",
     "text": [
      "/Users/ericmjl/anaconda/envs/mbtools/lib/python3.5/site-packages/Bio/Seq.py:150: BiopythonWarning: Biopython Seq objects now use string comparison. Older versions of Biopython used object comparison. During this transition, please use hash(id(my_seq)) or my_dict[id(my_seq)] if you want the old behaviour, or use hash(str(my_seq)) or my_dict[str(my_seq)] for the new string hashing behaviour.\n",
      "  \"the new string hashing behaviour.\", BiopythonWarning)\n"
     ]
    },
    {
     "name": "stdout",
     "output_type": "stream",
     "text": [
      "pCI_part2 1374\n",
      "pCI_part1 2707\n",
      "A/Victoria/361/2011|KJ942687_part2 820\n",
      "A/Victoria/361/2011|KJ942687_part1 1600\n"
     ]
    }
   ],
   "source": [
    "# Assembly 4: Scenario where VicPB2 and pCI are split each at their 2/3 points.\n",
    "assembly4 = GibsonAssembler([vicpb2_split2_part1, vicpb2_split2_part2, pCI_split2_part1, pCI_split2_part2])\n",
    "for part, product in assembly4.pcr_products().items():\n",
    "    print(part, len(product))"
   ]
  },
  {
   "cell_type": "code",
   "execution_count": 19,
   "metadata": {
    "collapsed": false
   },
   "outputs": [
    {
     "name": "stderr",
     "output_type": "stream",
     "text": [
      "/Users/ericmjl/anaconda/envs/mbtools/lib/python3.5/site-packages/Bio/Seq.py:150: BiopythonWarning: Biopython Seq objects now use string comparison. Older versions of Biopython used object comparison. During this transition, please use hash(id(my_seq)) or my_dict[id(my_seq)] if you want the old behaviour, or use hash(str(my_seq)) or my_dict[str(my_seq)] for the new string hashing behaviour.\n",
      "  \"the new string hashing behaviour.\", BiopythonWarning)\n"
     ]
    },
    {
     "name": "stdout",
     "output_type": "stream",
     "text": [
      "pCI_part2 1374\n",
      "pCI_part1 2707\n",
      "A/Victoria/361/2011|KJ942687_part2 1444\n",
      "A/Victoria/361/2011|KJ942687_part1 976\n"
     ]
    }
   ],
   "source": [
    "# Assembly 5: Scenario where we use the 2/5 split point for PB2 and 2/3 split point for pCI.\n",
    "assembly5 = GibsonAssembler([vicpb2_split3_part1, vicpb2_split3_part2, pCI_split2_part1, pCI_split2_part2])\n",
    "for part, product in assembly5.pcr_products().items():\n",
    "    print(part, len(product))"
   ]
  },
  {
   "cell_type": "code",
   "execution_count": 20,
   "metadata": {
    "collapsed": false
   },
   "outputs": [
    {
     "name": "stderr",
     "output_type": "stream",
     "text": [
      "/Users/ericmjl/anaconda/envs/mbtools/lib/python3.5/site-packages/Bio/Seq.py:150: BiopythonWarning: Biopython Seq objects now use string comparison. Older versions of Biopython used object comparison. During this transition, please use hash(id(my_seq)) or my_dict[id(my_seq)] if you want the old behaviour, or use hash(str(my_seq)) or my_dict[str(my_seq)] for the new string hashing behaviour.\n",
      "  \"the new string hashing behaviour.\", BiopythonWarning)\n"
     ]
    },
    {
     "name": "stdout",
     "output_type": "stream",
     "text": [
      "pCI_part2 1374\n",
      "pCI_part1 2707\n",
      "A/Victoria/361/2011|KJ942687_part2 976\n",
      "A/Victoria/361/2011|KJ942687_part1 1444\n"
     ]
    }
   ],
   "source": [
    "# Assembly 5: Scenario where we use the 3/5 split point for PB2 and 2/3 split point for pCI.\n",
    "assembly6 = GibsonAssembler([vicpb2_split4_part1, vicpb2_split4_part2, pCI_split2_part1, pCI_split2_part2])\n",
    "for part, product in assembly6.pcr_products().items():\n",
    "    print(part, len(product))"
   ]
  },
  {
   "cell_type": "code",
   "execution_count": 21,
   "metadata": {
    "collapsed": false,
    "scrolled": true
   },
   "outputs": [],
   "source": [
    "def gather_assembly_primers(assembly):\n",
    "    assembly_primers = []\n",
    "    for part, primers in assembly.primers().items():\n",
    "        for primer, sequence in primers.items():\n",
    "            prec = dict()\n",
    "            prec['part'] = part\n",
    "            prec['primer'] = primer\n",
    "            prec['sequence'] = str(sequence)\n",
    "            assembly_primers.append(prec)\n",
    "    return assembly_primers\n",
    "\n",
    "assembly4_primers = gather_assembly_primers(assembly4)"
   ]
  },
  {
   "cell_type": "code",
   "execution_count": 22,
   "metadata": {
    "collapsed": false
   },
   "outputs": [],
   "source": [
    "assembly5_primers = gather_assembly_primers(assembly5)\n",
    "assembly6_primers = gather_assembly_primers(assembly6)"
   ]
  },
  {
   "cell_type": "markdown",
   "metadata": {},
   "source": [
    "Check the primers from Assembly 4 into the database."
   ]
  },
  {
   "cell_type": "code",
   "execution_count": 23,
   "metadata": {
    "collapsed": false
   },
   "outputs": [],
   "source": [
    "from tinydb import TinyDB, Query\n",
    "\n",
    "primerdb = TinyDB('../../data/primers.db.json')"
   ]
  },
  {
   "cell_type": "code",
   "execution_count": 24,
   "metadata": {
    "collapsed": false
   },
   "outputs": [],
   "source": [
    "def checkin_primers(primers, database):\n",
    "    \"\"\"\n",
    "    Checks the primers into the database.\n",
    "    \"\"\"\n",
    "    for primer in primers:\n",
    "        primer['received'] = False\n",
    "        p = Query()\n",
    "        if not database.contains(p.sequence == primer['sequence']):\n",
    "            database.insert(primer)\n",
    "            print('Inserting {primer}...'.format(primer=primer))\n",
    "            \n",
    "checkin_primers(assembly4_primers, primerdb)"
   ]
  },
  {
   "cell_type": "code",
   "execution_count": 25,
   "metadata": {
    "collapsed": false
   },
   "outputs": [],
   "source": [
    "checkin_primers(assembly5_primers, primerdb)"
   ]
  },
  {
   "cell_type": "code",
   "execution_count": 26,
   "metadata": {
    "collapsed": false
   },
   "outputs": [],
   "source": [
    "checkin_primers(assembly6_primers, primerdb)"
   ]
  },
  {
   "cell_type": "code",
   "execution_count": 27,
   "metadata": {
    "collapsed": false
   },
   "outputs": [
    {
     "data": {
      "text/plain": [
       "36"
      ]
     },
     "execution_count": 27,
     "metadata": {},
     "output_type": "execute_result"
    }
   ],
   "source": [
    "len(primerdb)"
   ]
  },
  {
   "cell_type": "markdown",
   "metadata": {},
   "source": [
    "Some primers have already been received. Here is a function that marks them as \"received\"."
   ]
  },
  {
   "cell_type": "code",
   "execution_count": 28,
   "metadata": {
    "collapsed": false
   },
   "outputs": [],
   "source": [
    "def mark_unreceived_primers(database, eids):\n",
    "    \"\"\"\n",
    "    Marks a list of primers as not received.\n",
    "    \"\"\"\n",
    "    print('updating EIDs as being not received')\n",
    "    database.update({'received': False}, eids=eids)\n",
    "        \n",
    "    for eid in eids:\n",
    "        assert database.get(eid=eid)['received'] == False"
   ]
  },
  {
   "cell_type": "code",
   "execution_count": 29,
   "metadata": {
    "collapsed": false
   },
   "outputs": [
    {
     "name": "stdout",
     "output_type": "stream",
     "text": [
      "updating EIDs as being received\n"
     ]
    }
   ],
   "source": [
    "def mark_primers_as_received(database, eids):\n",
    "    assert isinstance(eids, list)\n",
    "    print('updating EIDs as being received')\n",
    "    database.update({'received':True}, eids=eids)\n",
    "    \n",
    "    # Very quick check to make sure it is truly received.\n",
    "    for eid in eids:\n",
    "        assert database.get(eid=eid)['received'] == True\n",
    "    \n",
    "mark_primers_as_received(primerdb, list(range(25, 36)))"
   ]
  },
  {
   "cell_type": "markdown",
   "metadata": {},
   "source": [
    "Export the primers to be ordered."
   ]
  },
  {
   "cell_type": "code",
   "execution_count": 30,
   "metadata": {
    "collapsed": false
   },
   "outputs": [
    {
     "name": "stdout",
     "output_type": "stream",
     "text": [
      "{'sequence': 'TCTGGTAATACTCCAACCATTCCCATCACACTGTCGATGTGTTCAACTCCCCAATTTTGA', 'primer_id': 'EM-36', 'part': 'A/Victoria/361/2011|KJ942687_part1', 'received': False, 'primer': 're_gibson'}\n"
     ]
    }
   ],
   "source": [
    "import pandas as pd\n",
    "\n",
    "\n",
    "q = Query()\n",
    "primers_to_order = primerdb.search(q.received == False)\n",
    "primers_to_order\n",
    "for p in primers_to_order:\n",
    "    eid = primerdb.get(Query().sequence == p['sequence']).eid\n",
    "    p['primer_id'] = 'EM-{0}'.format(eid)\n",
    "    print(p)\n",
    "pd.DataFrame(primers_to_order).to_csv('primers.csv')"
   ]
  },
  {
   "cell_type": "code",
   "execution_count": 31,
   "metadata": {
    "collapsed": false
   },
   "outputs": [
    {
     "data": {
      "text/plain": [
       "defaultdict(dict,\n",
       "            {'A/Victoria/361/2011|KJ942687': {'3p_sequencing': Seq('GTGTTGGTAATGAAACGAAA', SingleLetterAlphabet()),\n",
       "              '5p_sequencing': Seq('AATTATGGCCATATGGTCCA', SingleLetterAlphabet()),\n",
       "              'fw_gibson': Seq('CACTATAGGCTAGCCTCGAGAGCAAAAGCAGGTCAATTATATTCAGTATGGAAAGAATAA', SingleLetterAlphabet()),\n",
       "              're_gibson': Seq('ACTCTAGAGGTACCACGCGTGTAGAAACAAGGTCGTTTTTAAACTATTCAGCATTAATTG', SingleLetterAlphabet())},\n",
       "             'pCI': {'3p_sequencing': Seq('GCACCTATTGGTCTTACTGA', SingleLetterAlphabet()),\n",
       "              '5p_sequencing': Seq('TTTCACAAATAAAGCATTTT', SingleLetterAlphabet()),\n",
       "              'fw_gibson': Seq('AAAAACGACCTTGTTTCTACACGCGTGGTACCTCTAGAGTCGACCCGGGCGGCCGCTTCG', SingleLetterAlphabet()),\n",
       "              're_gibson': Seq('ATAATTGACCTGCTTTTGCTCTCGAGGCTAGCCTATAGTGAGTCGTATTAAGTACTCTAG', SingleLetterAlphabet())}})"
      ]
     },
     "execution_count": 31,
     "metadata": {},
     "output_type": "execute_result"
    }
   ],
   "source": [
    "# Get primers out from each of the reactions.\n",
    "a1_primers = assembly1.primers()\n",
    "a1_primers"
   ]
  },
  {
   "cell_type": "code",
   "execution_count": 32,
   "metadata": {
    "collapsed": false
   },
   "outputs": [
    {
     "data": {
      "text/plain": [
       "60"
      ]
     },
     "execution_count": 32,
     "metadata": {},
     "output_type": "execute_result"
    }
   ],
   "source": [
    "# Match up the Fw_gibson and Re_gibson primers for each template.\n",
    "len(a1_primers['pCI']['fw_gibson'])"
   ]
  },
  {
   "cell_type": "code",
   "execution_count": 33,
   "metadata": {
    "collapsed": true
   },
   "outputs": [],
   "source": [
    "def pprint_primers(assembly):\n",
    "    primer_set = assembly.primers()\n",
    "    \n",
    "    for tmplt, prmrs in primer_set.items():\n",
    "        print(tmplt)\n",
    "        for prmr, sqnc in prmrs.items():\n",
    "            if 'gibson' in prmr:\n",
    "                # print(prmr)\n",
    "                p = Query()\n",
    "                eid = primerdb.get(p.sequence == str(sqnc)).eid\n",
    "                print('  Primer: {0}'.format(prmr))\n",
    "                print('  Primer ID:  EM-{0}'.format(eid))\n",
    "                print('  Tm:         {0:.1f}ºC'.format(Tm_NN(sqnc)))\n",
    "        print('  Size:       {0} bp'.format(len(assembly.pcr_products()[tmplt])))\n",
    "        print('')"
   ]
  },
  {
   "cell_type": "code",
   "execution_count": 34,
   "metadata": {
    "collapsed": false,
    "scrolled": true
   },
   "outputs": [
    {
     "name": "stdout",
     "output_type": "stream",
     "text": [
      "pCI\n",
      "  Primer: fw_gibson\n",
      "  Primer ID:  EM-32\n",
      "  Tm:         76.4ºC\n",
      "  Primer: re_gibson\n",
      "  Primer ID:  EM-25\n",
      "  Tm:         67.5ºC\n",
      "  Size:       4041 bp\n",
      "\n",
      "A/Victoria/361/2011|KJ942687\n",
      "  Primer: fw_gibson\n",
      "  Primer ID:  EM-30\n",
      "  Tm:         66.6ºC\n",
      "  Primer: re_gibson\n",
      "  Primer ID:  EM-27\n",
      "  Tm:         67.3ºC\n",
      "  Size:       2380 bp\n",
      "\n"
     ]
    }
   ],
   "source": [
    "from Bio.SeqUtils.MeltingTemp import Tm_Wallace, Tm_staluc, Tm_NN\n",
    "pprint_primers(assembly1)"
   ]
  },
  {
   "cell_type": "markdown",
   "metadata": {},
   "source": [
    "We will amplify Victoria PB2 using EM-2 and EM-11 on the mutagenesis kit, and amplify pCI using EM-6 and EM-15 using Phusion GC master-mix."
   ]
  },
  {
   "cell_type": "code",
   "execution_count": 35,
   "metadata": {
    "collapsed": false
   },
   "outputs": [
    {
     "name": "stdout",
     "output_type": "stream",
     "text": [
      "pCI_part2 1374\n",
      "pCI_part1 2707\n",
      "A/Victoria/361/2011|KJ942687_part2 820\n",
      "A/Victoria/361/2011|KJ942687_part1 1600\n"
     ]
    }
   ],
   "source": [
    "for part, seq in assembly4.pcr_products().items():\n",
    "    print(part, len(seq))"
   ]
  },
  {
   "cell_type": "code",
   "execution_count": 36,
   "metadata": {
    "collapsed": false
   },
   "outputs": [
    {
     "data": {
      "text/plain": [
       "2.0205"
      ]
     },
     "execution_count": 36,
     "metadata": {},
     "output_type": "execute_result"
    }
   ],
   "source": [
    "# The PCR protocol for pCI is dependent on the length of the PCR product.\n",
    "\n",
    "bases_per_min = 2000\n",
    "\n",
    "len(assembly1.pcr_products()['pCI']) / bases_per_min"
   ]
  },
  {
   "cell_type": "code",
   "execution_count": 37,
   "metadata": {
    "collapsed": false
   },
   "outputs": [
    {
     "name": "stdout",
     "output_type": "stream",
     "text": [
      "pCI_part2\n",
      "  Primer: fw_gibson\n",
      "  Primer ID:  EM-26\n",
      "  Tm:         75.3ºC\n",
      "  Primer: re_gibson\n",
      "  Primer ID:  EM-25\n",
      "  Tm:         67.5ºC\n",
      "  Size:       1374 bp\n",
      "\n",
      "pCI_part1\n",
      "  Primer: fw_gibson\n",
      "  Primer ID:  EM-32\n",
      "  Tm:         76.4ºC\n",
      "  Primer: re_gibson\n",
      "  Primer ID:  EM-31\n",
      "  Tm:         74.6ºC\n",
      "  Size:       2707 bp\n",
      "\n",
      "A/Victoria/361/2011|KJ942687_part2\n",
      "  Primer: fw_gibson\n",
      "  Primer ID:  EM-28\n",
      "  Tm:         69.7ºC\n",
      "  Primer: re_gibson\n",
      "  Primer ID:  EM-27\n",
      "  Tm:         67.3ºC\n",
      "  Size:       820 bp\n",
      "\n",
      "A/Victoria/361/2011|KJ942687_part1\n",
      "  Primer: fw_gibson\n",
      "  Primer ID:  EM-30\n",
      "  Tm:         66.6ºC\n",
      "  Primer: re_gibson\n",
      "  Primer ID:  EM-29\n",
      "  Tm:         69.3ºC\n",
      "  Size:       1600 bp\n",
      "\n"
     ]
    }
   ],
   "source": [
    "pprint_primers(assembly4)"
   ]
  },
  {
   "cell_type": "code",
   "execution_count": 38,
   "metadata": {
    "collapsed": false
   },
   "outputs": [
    {
     "name": "stdout",
     "output_type": "stream",
     "text": [
      "pCI_part2 1374\n",
      "pCI_part1 2707\n",
      "A/Victoria/361/2011|KJ942687_part2 820\n",
      "A/Victoria/361/2011|KJ942687_part1 1600\n"
     ]
    }
   ],
   "source": [
    "for part, seq in assembly4.pcr_products().items():\n",
    "    print(part, len(seq))"
   ]
  },
  {
   "cell_type": "code",
   "execution_count": null,
   "metadata": {
    "collapsed": true
   },
   "outputs": [],
   "source": []
  }
 ],
 "metadata": {
  "kernelspec": {
   "display_name": "Python 3",
   "language": "python",
   "name": "python3"
  },
  "language_info": {
   "codemirror_mode": {
    "name": "ipython",
    "version": 3
   },
   "file_extension": ".py",
   "mimetype": "text/x-python",
   "name": "python",
   "nbconvert_exporter": "python",
   "pygments_lexer": "ipython3",
   "version": "3.5.2"
  }
 },
 "nbformat": 4,
 "nbformat_minor": 0
}
