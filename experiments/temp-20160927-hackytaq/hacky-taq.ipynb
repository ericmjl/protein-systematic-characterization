{
 "cells": [
  {
   "cell_type": "code",
   "execution_count": 198,
   "metadata": {
    "collapsed": false
   },
   "outputs": [],
   "source": [
    "from Bio import SeqIO\n",
    "from Bio.SeqIO import AbiIO\n",
    "import os"
   ]
  },
  {
   "cell_type": "code",
   "execution_count": 199,
   "metadata": {
    "collapsed": false
   },
   "outputs": [
    {
     "data": {
      "text/plain": [
       "['0-Mn-fw-EM-28.seq',\n",
       " '0-Mn-re-EM-27.seq',\n",
       " '15-Mn-fw-EM-28.seq',\n",
       " '15-Mn-re-EM-27.seq',\n",
       " '20-Mn-Fw-EM-28.seq',\n",
       " '20-Mn-re-EM-27.seq',\n",
       " '25-Mn-fw-EM-28.seq',\n",
       " '25-Mn-re-EM-27.seq',\n",
       " '30-Mn-fw-EM-28.seq',\n",
       " '30-Mn-re-EM-27.seq',\n",
       " '35-Mn-fw-EM-28.seq',\n",
       " '35-Mn-re-EM-27.seq',\n",
       " '55-Mn-fw-EM-28.seq',\n",
       " '55-Mn-re-EM-27.seq']"
      ]
     },
     "execution_count": 199,
     "metadata": {},
     "output_type": "execute_result"
    }
   ],
   "source": [
    "seq_files = [f for f in os.listdir(os.getcwd()) if f[-4:] == '.seq']\n",
    "seq_files"
   ]
  },
  {
   "cell_type": "code",
   "execution_count": 200,
   "metadata": {
    "collapsed": false
   },
   "outputs": [
    {
     "data": {
      "text/plain": [
       "['0-Mn-fw-EM-28.ab1',\n",
       " '0-Mn-re-EM-27.ab1',\n",
       " '15-Mn-fw-EM-28.ab1',\n",
       " '15-Mn-re-EM-27.ab1',\n",
       " '20-Mn-Fw-EM-28.ab1',\n",
       " '20-Mn-re-EM-27.ab1',\n",
       " '25-Mn-fw-EM-28.ab1',\n",
       " '25-Mn-re-EM-27.ab1',\n",
       " '30-Mn-fw-EM-28.ab1',\n",
       " '30-Mn-re-EM-27.ab1',\n",
       " '35-Mn-fw-EM-28.ab1',\n",
       " '35-Mn-re-EM-27.ab1',\n",
       " '55-Mn-fw-EM-28.ab1',\n",
       " '55-Mn-re-EM-27.ab1']"
      ]
     },
     "execution_count": 200,
     "metadata": {},
     "output_type": "execute_result"
    }
   ],
   "source": [
    "abi_files = [f for f in os.listdir(os.getcwd()) if f[-4:] == '.ab1']\n",
    "abi_files"
   ]
  },
  {
   "cell_type": "code",
   "execution_count": 201,
   "metadata": {
    "collapsed": false
   },
   "outputs": [
    {
     "data": {
      "text/plain": [
       "[SeqRecord(seq=Seq('CNNNNNAANGNGNANNNNAANTCNTNNNNNNNNAACTNNNNNNNNNNNNNNNNN...NNN', SingleLetterAlphabet()), id='0-Mn-fw-EM-28.seq', name='0-Mn-fw-EM-28.seq', description='0-Mn-fw-EM-28.seq', dbxrefs=[]),\n",
       " SeqRecord(seq=Seq('NNNNNNNTNNNNACNGNCNNNANNNCTGACAATATCTTATTCATCCTCNATGAT...NNN', SingleLetterAlphabet()), id='0-Mn-re-EM-27.seq', name='0-Mn-re-EM-27.seq', description='0-Mn-re-EM-27.seq', dbxrefs=[]),\n",
       " SeqRecord(seq=Seq('NNNCNNNNNNNNNNNNNNNNNNANNATCCTNNAGNANATCTTATTCNTNGNGGA...NGN', SingleLetterAlphabet()), id='15-Mn-fw-EM-28.seq', name='15-Mn-fw-EM-28.seq', description='15-Mn-fw-EM-28.seq', dbxrefs=[]),\n",
       " SeqRecord(seq=Seq('NNNNCNNANNNNNNNNNCACTNNNNNCACNNAACNNAATGCTTTTTCTCGAGGG...NNN', SingleLetterAlphabet()), id='15-Mn-re-EM-27.seq', name='15-Mn-re-EM-27.seq', description='15-Mn-re-EM-27.seq', dbxrefs=[]),\n",
       " SeqRecord(seq=Seq('ANNNNNNNCTNNNNNANANNATANNACATCNCNNNTATGGATCNCANNGAGATT...NNN', SingleLetterAlphabet()), id='20-Mn-Fw-EM-28.seq', name='20-Mn-Fw-EM-28.seq', description='20-Mn-Fw-EM-28.seq', dbxrefs=[]),\n",
       " SeqRecord(seq=Seq('NNNNNCNANNNNNNNNNNNNNTCAGTTCCCTGTGTTTCACTGACCTCCTCAGGA...NNN', SingleLetterAlphabet()), id='20-Mn-re-EM-27.seq', name='20-Mn-re-EM-27.seq', description='20-Mn-re-EM-27.seq', dbxrefs=[]),\n",
       " SeqRecord(seq=Seq('NNNNNNNNNACNANNNNTNGCTNGATTCTTTATGGATCTCACCTTGTTTCTACA...NNN', SingleLetterAlphabet()), id='25-Mn-fw-EM-28.seq', name='25-Mn-fw-EM-28.seq', description='25-Mn-fw-EM-28.seq', dbxrefs=[]),\n",
       " SeqRecord(seq=Seq('NNNNCTNNNNNNNTCCCTGTGTTTCACTGACCTCCTCAGGAGATAATAATACAT...NNN', SingleLetterAlphabet()), id='25-Mn-re-EM-27.seq', name='25-Mn-re-EM-27.seq', description='25-Mn-re-EM-27.seq', dbxrefs=[]),\n",
       " SeqRecord(seq=Seq('ANNNNANNNGANNATAACTTATTACATCNNCTTTGNNNATGAATAGTTTAAAAA...NNN', SingleLetterAlphabet()), id='30-Mn-fw-EM-28.seq', name='30-Mn-fw-EM-28.seq', description='30-Mn-fw-EM-28.seq', dbxrefs=[]),\n",
       " SeqRecord(seq=Seq('NNNNNNNAATANNNTATTNNCAGTCTCTCAGTTCCCTGTGTTTCACTGACCTCC...NNN', SingleLetterAlphabet()), id='30-Mn-re-EM-27.seq', name='30-Mn-re-EM-27.seq', description='30-Mn-re-EM-27.seq', dbxrefs=[]),\n",
       " SeqRecord(seq=Seq('CCNNNNNAANGNNNNNNNNNNNNNNTTTNNNACTACCNNNNNNNNCCTCNNNNA...NNN', SingleLetterAlphabet()), id='35-Mn-fw-EM-28.seq', name='35-Mn-fw-EM-28.seq', description='35-Mn-fw-EM-28.seq', dbxrefs=[]),\n",
       " SeqRecord(seq=Seq('NNNNCNNNNNNNNNNNANNNNNNNAGGNCAGTTCCCTGNGTTNNNNTGACCTCC...NNN', SingleLetterAlphabet()), id='35-Mn-re-EM-27.seq', name='35-Mn-re-EM-27.seq', description='35-Mn-re-EM-27.seq', dbxrefs=[]),\n",
       " SeqRecord(seq=Seq('NNNNNNCCTNNNGNAGANAATAATACATTCACNTTGGTCTCANGGTGATTTCTG...NNN', SingleLetterAlphabet()), id='55-Mn-fw-EM-28.seq', name='55-Mn-fw-EM-28.seq', description='55-Mn-fw-EM-28.seq', dbxrefs=[]),\n",
       " SeqRecord(seq=Seq('NNNNNNNNNNNGTCTNNNNGTTCCCTGTGTTTCACTGACCTCCTCAGGAGATAA...NNN', SingleLetterAlphabet()), id='55-Mn-re-EM-27.seq', name='55-Mn-re-EM-27.seq', description='55-Mn-re-EM-27.seq', dbxrefs=[])]"
      ]
     },
     "execution_count": 201,
     "metadata": {},
     "output_type": "execute_result"
    }
   ],
   "source": [
    "sequences = []\n",
    "traces = []\n",
    "for f in seq_files:\n",
    "    seq = SeqIO.read(f, 'fasta')\n",
    "    seq.id = f\n",
    "    seq.name = f\n",
    "    seq.description = f\n",
    "    sequences.append(seq)\n",
    "    \n",
    "sequences"
   ]
  },
  {
   "cell_type": "code",
   "execution_count": 224,
   "metadata": {
    "collapsed": false
   },
   "outputs": [
    {
     "data": {
      "text/plain": [
       "SeqRecord(seq=Seq('AGAGACTGACAATAACTTATTCATCGTCGATGATGTGGGAGATTAACGGTCCTG...TAC', SingleLetterAlphabet()), id='A/Victoria/361/2011|KJ942687', name='A/Victoria/361/2011|KJ942687', description='A/Victoria/361/2011|KJ942687', dbxrefs=[])"
      ]
     },
     "execution_count": 224,
     "metadata": {},
     "output_type": "execute_result"
    }
   ],
   "source": [
    "# Open the original sequence\n",
    "original = SeqIO.read('../../data/victoria-pb2.fasta', 'fasta')\n",
    "original = original[1600:]\n",
    "original"
   ]
  },
  {
   "cell_type": "code",
   "execution_count": 225,
   "metadata": {
    "collapsed": false
   },
   "outputs": [
    {
     "data": {
      "text/plain": [
       "7"
      ]
     },
     "execution_count": 225,
     "metadata": {},
     "output_type": "execute_result"
    }
   ],
   "source": [
    "# Write the \"fw\" to disk\n",
    "fw_sequences = [s for s in sequences if '-fw-' in s.id]\n",
    "fw_sequences.append(original)\n",
    "SeqIO.write(fw_sequences, 'forward.fasta', 'fasta')\n",
    "# fw_sequences"
   ]
  },
  {
   "cell_type": "code",
   "execution_count": 226,
   "metadata": {
    "collapsed": false
   },
   "outputs": [
    {
     "data": {
      "text/plain": [
       "7"
      ]
     },
     "execution_count": 226,
     "metadata": {},
     "output_type": "execute_result"
    }
   ],
   "source": [
    "re_sequences = [s for s in sequences if '-re' in s.id or '-Re-' in s.id]\n",
    "SeqIO.write(re_sequences, 'reverse.fasta', 'fasta')"
   ]
  },
  {
   "cell_type": "code",
   "execution_count": 230,
   "metadata": {
    "collapsed": false,
    "scrolled": true
   },
   "outputs": [
    {
     "data": {
      "text/plain": [
       "('Using 4 threads\\nRead 7 sequences (type: DNA) from forward.fasta\\nnot more sequences (7) than cluster-size (100), turn off mBed\\nSetting options automatically based on input sequence characteristics (might overwrite some of your options).\\nAuto settings: Enabling mBed.\\nAuto settings: Setting iteration to 1.\\nUsing 6 seeds (chosen with constant stride from length sorted seqs) for mBed (from a total of 7 sequences)\\nCalculating pairwise ktuple-distances...\\nKtuple-distance calculation progress: 0 % (0 out of 27)\\nKtuple-distance calculation progress: 3 % (1 out of 27)\\nKtuple-distance calculation progress: 7 % (2 out of 27)\\nKtuple-distance calculation progress: 11 % (3 out of 27)\\nKtuple-distance calculation progress: 29 % (8 out of 27)\\nKtuple-distance calculation progress: 51 % (14 out of 27)\\nKtuple-distance calculation progress done. CPU time: 0.01u 0.00s 00:00:00.01 Elapsed: 00:00:00\\nmBed created 1 cluster/s (with a minimum of 1 and a soft maximum of 100 sequences each)\\nDistance calculation within sub-clusters: 0 % (0 out of 1)\\nDistance calculation within sub-clusters done. CPU time: 0.02u 0.00s 00:00:00.02 Elapsed: 00:00:00\\nGuide-tree computation (mBed) done.\\nProgressive alignment progress: 16 % (1 out of 6)\\nProgressive alignment progress: 33 % (2 out of 6)\\nProgressive alignment progress: 50 % (3 out of 6)\\nProgressive alignment progress: 66 % (4 out of 6)\\nProgressive alignment progress: 83 % (5 out of 6)\\nProgressive alignment progress: 100 % (6 out of 6)\\nProgressive alignment progress done. CPU time: 0.89u 0.21s 00:00:01.10 Elapsed: 00:00:00\\nIteration step 1 out of 1\\nComputing new guide tree (iteration step 0)\\nCalculating pairwise aligned identity distances...\\nPairwise distance calculation progress: 0 % (0 out of 28)\\nPairwise distance calculation progress: 0 % (0 out of 28)\\nPairwise distance calculation progress: 0 % (0 out of 28)\\nPairwise distance calculation progress: 25 % (7 out of 28)\\nPairwise distance calculation progress: 46 % (13 out of 28)\\nPairwise distance calculation progress: 53 % (15 out of 28)\\nPairwise distance calculation progress: 57 % (16 out of 28)\\nPairwise identity calculation progress done. CPU time: 0.00u 0.00s 00:00:00.00 Elapsed: 00:00:00\\nGuide-tree computation done.\\nComputing HMM from alignment\\nProgressive alignment progress: 16 % (1 out of 6)\\nProgressive alignment progress: 33 % (2 out of 6)\\nProgressive alignment progress: 50 % (3 out of 6)\\nProgressive alignment progress: 66 % (4 out of 6)\\nProgressive alignment progress: 83 % (5 out of 6)\\nProgressive alignment progress: 100 % (6 out of 6)\\nProgressive alignment progress done. CPU time: 2.54u 0.46s 00:00:03.00 Elapsed: 00:00:02\\nAlignment written to forward.aligned.fasta\\n',\n",
       " '')"
      ]
     },
     "execution_count": 230,
     "metadata": {},
     "output_type": "execute_result"
    }
   ],
   "source": [
    "from Bio.Align.Applications import ClustalOmegaCommandline\n",
    "\n",
    "cline = ClustalOmegaCommandline(infile='forward.fasta', outfile='forward.aligned.fasta', verbose=True, auto=True, force=True)\n",
    "cline()"
   ]
  },
  {
   "cell_type": "code",
   "execution_count": 231,
   "metadata": {
    "collapsed": false,
    "scrolled": true
   },
   "outputs": [
    {
     "name": "stdout",
     "output_type": "stream",
     "text": [
      "SingleLetterAlphabet() alignment with 7 rows and 712 columns\n",
      "GAGTCGGTTTTGGTCAATACCTATCAATGGATCATCAGAAATTG...NNN 0-Mn-fw-EM-28.seq\n",
      "GAGTCGGTTTTGGTCAATACCTATCAATGGATCATCAGAAATTG...ANN 15-Mn-fw-EM-28.seq\n",
      "TGGTACCTCTAGAGTNNTACCTATCAATGGATCATCAGAAATTG...--- 25-Mn-fw-EM-28.seq\n",
      "GACCTTGTTTCTACACGCGTGGTACCTCTAGAGTACAGAAATTG...ANN 30-Mn-fw-EM-28.seq\n",
      "GAGTCGGTTTTGGTCAATACCTATCAATGGATCATCAGAAATTG...NNA 35-Mn-fw-EM-28.seq\n",
      "NGNTCGGTTTTGGTCANTACCTATCAATGGATCATCAGAAATTG...--- 55-Mn-fw-EM-28.seq\n",
      "GAGTCGGTTTTGGTCAATACCTATCAATGGATCATCAGAAATTG...--- A/Victoria/361/2011|KJ942687\n"
     ]
    }
   ],
   "source": [
    "from Bio import AlignIO\n",
    "\n",
    "aln = AlignIO.read('forward.aligned.fasta', 'fasta')\n",
    "print(aln[:, 100:-100])"
   ]
  },
  {
   "cell_type": "code",
   "execution_count": 232,
   "metadata": {
    "collapsed": true
   },
   "outputs": [],
   "source": [
    "from Levenshtein import distance"
   ]
  },
  {
   "cell_type": "code",
   "execution_count": 233,
   "metadata": {
    "collapsed": false
   },
   "outputs": [
    {
     "name": "stdout",
     "output_type": "stream",
     "text": [
      "218\n",
      "176\n",
      "236\n"
     ]
    }
   ],
   "source": [
    "# Analyze the forward sequences\n",
    "mn_00 = aln[2].seq\n",
    "mn_25 = aln[0].seq\n",
    "mn_55 = aln[1].seq\n",
    "\n",
    "print(distance(str(original[150:-150].seq), str(mn_00[150:-150]), ))\n",
    "print(distance(str(original[150:-150].seq), str(mn_25[150:-150]), ))\n",
    "print(distance(str(original[150:-150].seq), str(mn_55[150:-150]), ))"
   ]
  },
  {
   "cell_type": "code",
   "execution_count": 234,
   "metadata": {
    "collapsed": false
   },
   "outputs": [
    {
     "data": {
      "text/plain": [
       "[<matplotlib.lines.Line2D at 0x15a59c0b8>]"
      ]
     },
     "execution_count": 234,
     "metadata": {},
     "output_type": "execute_result"
    },
    {
     "data": {
      "image/png": "[encoded data removed]",
      "text/plain": [
       "<matplotlib.figure.Figure at 0x1599e43c8>"
      ]
     },
     "metadata": {},
     "output_type": "display_data"
    }
   ],
   "source": [
    "from collections import Counter\n",
    "import matplotlib.pyplot as plt\n",
    "%matplotlib inline\n",
    "num_gaps = []\n",
    "window_length = 5\n",
    "for pos in range(aln.get_alignment_length()):\n",
    "    temp_aln = aln[:, pos:pos+window_length]\n",
    "    letters = Counter()\n",
    "    for i in range(temp_aln.get_alignment_length()):\n",
    "        letters = letters + Counter(temp_aln[:, i])\n",
    "    # letters = Counter(aln[:, pos:pos+10])\n",
    "    \n",
    "    \n",
    "    b = bool(int((letters['-'] + letters['N'])/window_length))\n",
    "    num_gaps.append(b)\n",
    "plt.plot(num_gaps)\n",
    "# plt.ylim(-1, 3)"
   ]
  },
  {
   "cell_type": "code",
   "execution_count": 235,
   "metadata": {
    "collapsed": false
   },
   "outputs": [
    {
     "data": {
      "text/plain": [
       "240"
      ]
     },
     "execution_count": 235,
     "metadata": {},
     "output_type": "execute_result"
    }
   ],
   "source": [
    "# identify the longest sequence of zeros amongst smoothed out data.\n",
    "from itertools import groupby\n",
    "\n",
    "def find_midpoint_of_longest_zeros(num_gaps):\n",
    "    idx_longest_zeros = 0\n",
    "    longest_zeros = [0]\n",
    "    pos_counter = 0\n",
    "    for i, (elm, grp) in enumerate(groupby(num_gaps)):\n",
    "        grp = list(grp)\n",
    "        if not elm and len(grp) > len(longest_zeros):\n",
    "            longest_zeros = grp\n",
    "            idx_longest_zeros = pos_counter\n",
    "        pos_counter += len(grp)\n",
    "    \n",
    "    return int((idx_longest_zeros + len(longest_zeros)) / 2)\n",
    "\n",
    "find_midpoint_of_longest_zeros(num_gaps)"
   ]
  },
  {
   "cell_type": "code",
   "execution_count": 236,
   "metadata": {
    "collapsed": true
   },
   "outputs": [],
   "source": [
    "midpt = find_midpoint_of_longest_zeros(num_gaps)"
   ]
  },
  {
   "cell_type": "code",
   "execution_count": 237,
   "metadata": {
    "collapsed": true
   },
   "outputs": [],
   "source": [
    "import pymc3 as pm\n",
    "import numpy as np"
   ]
  },
  {
   "cell_type": "code",
   "execution_count": 253,
   "metadata": {
    "collapsed": false
   },
   "outputs": [
    {
     "name": "stdout",
     "output_type": "stream",
     "text": [
      "Applied interval-transform to p1 and added transformed p1_interval_ to model.\n"
     ]
    }
   ],
   "source": [
    "positions = np.arange(0, len(num_gaps))\n",
    "with pm.Model() as model:\n",
    "    switchpoint1 = pm.DiscreteUniform('switchpoint1', lower=0, upper=midpt)\n",
    "    switchpoint2 = pm.DiscreteUniform('switchpoint2', lower=midpt, upper=len(num_gaps))\n",
    "    \n",
    "    p = pm.Uniform('p1', lower=0, upper=1, shape=4)\n",
    "\n",
    "    rate1 = pm.math.switch(positions < switchpoint1, p[0], p[1])\n",
    "    rate2 = pm.math.switch(positions > switchpoint2, p[2], p[3])\n",
    "    \n",
    "    mutations1 = pm.Bernoulli('mutations1', p=rate1, observed=num_gaps)\n",
    "    mutations2 = pm.Bernoulli('mutations2', p=rate2, observed=num_gaps)"
   ]
  },
  {
   "cell_type": "code",
   "execution_count": 256,
   "metadata": {
    "collapsed": false
   },
   "outputs": [
    {
     "name": "stdout",
     "output_type": "stream",
     "text": [
      " [-------100%-------] 5000 of 5000 in 8.4 sec. | SPS: 596.6 | ETA: 0.0"
     ]
    }
   ],
   "source": [
    "with model:\n",
    "    step1 = pm.NUTS([p])\n",
    "\n",
    "    # Use Metropolis for switchpoint, and missing values since it accommodates discrete variables\n",
    "    step2 = pm.Metropolis([switchpoint1, switchpoint2])\n",
    "    start = pm.find_MAP()\n",
    "    trace = pm.sample(5000, start=start, step=[step1, step2])"
   ]
  },
  {
   "cell_type": "code",
   "execution_count": 257,
   "metadata": {
    "collapsed": false
   },
   "outputs": [
    {
     "data": {
      "text/plain": [
       "array([[<matplotlib.axes._subplots.AxesSubplot object at 0x1648ce710>,\n",
       "        <matplotlib.axes._subplots.AxesSubplot object at 0x1648fdda0>],\n",
       "       [<matplotlib.axes._subplots.AxesSubplot object at 0x164937a58>,\n",
       "        <matplotlib.axes._subplots.AxesSubplot object at 0x164943c88>],\n",
       "       [<matplotlib.axes._subplots.AxesSubplot object at 0x166adccf8>,\n",
       "        <matplotlib.axes._subplots.AxesSubplot object at 0x166d1a128>]], dtype=object)"
      ]
     },
     "execution_count": 257,
     "metadata": {},
     "output_type": "execute_result"
    },
    {
     "data": {
      "image/png": "[encoded data removed]",
      "text/plain": [
       "<matplotlib.figure.Figure at 0x163deb390>"
      ]
     },
     "metadata": {},
     "output_type": "display_data"
    }
   ],
   "source": [
    "pm.traceplot(trace)"
   ]
  },
  {
   "cell_type": "code",
   "execution_count": 258,
   "metadata": {
    "collapsed": false
   },
   "outputs": [
    {
     "data": {
      "text/plain": [
       "87"
      ]
     },
     "execution_count": 258,
     "metadata": {},
     "output_type": "execute_result"
    }
   ],
   "source": [
    "burnin = 1000\n",
    "start = int(trace['switchpoint1'][burnin:].max(axis=0))\n",
    "start"
   ]
  },
  {
   "cell_type": "code",
   "execution_count": 259,
   "metadata": {
    "collapsed": false
   },
   "outputs": [
    {
     "data": {
      "text/plain": [
       "475"
      ]
     },
     "execution_count": 259,
     "metadata": {},
     "output_type": "execute_result"
    }
   ],
   "source": [
    "end = int(trace['switchpoint2'][burnin:].min(axis=0))\n",
    "end"
   ]
  },
  {
   "cell_type": "code",
   "execution_count": 260,
   "metadata": {
    "collapsed": false
   },
   "outputs": [
    {
     "name": "stdout",
     "output_type": "stream",
     "text": [
      "0-Mn-fw-EM-28.seq 0\n",
      "15-Mn-fw-EM-28.seq 16\n",
      "25-Mn-fw-EM-28.seq 23\n",
      "30-Mn-fw-EM-28.seq 40\n",
      "35-Mn-fw-EM-28.seq 7\n",
      "55-Mn-fw-EM-28.seq 11\n"
     ]
    }
   ],
   "source": [
    "aln_trimmed = aln[:, start:end]\n",
    "concs = []\n",
    "muts = []\n",
    "for i in range(len(aln_trimmed) - 1):\n",
    "    dist = distance(str(aln_trimmed[i].seq), str(aln_trimmed[-1].seq))\n",
    "    print(aln_trimmed[i].id, dist)\n",
    "    \n",
    "    concs.append(aln_trimmed[i].id.split('-')[0])\n",
    "    muts.append(dist)"
   ]
  },
  {
   "cell_type": "code",
   "execution_count": 261,
   "metadata": {
    "collapsed": false
   },
   "outputs": [
    {
     "data": {
      "text/plain": [
       "[<matplotlib.lines.Line2D at 0x16743a6d8>]"
      ]
     },
     "execution_count": 261,
     "metadata": {},
     "output_type": "execute_result"
    },
    {
     "data": {
      "image/png": "[encoded data removed]",
      "text/plain": [
       "<matplotlib.figure.Figure at 0x16743a0f0>"
      ]
     },
     "metadata": {},
     "output_type": "display_data"
    }
   ],
   "source": [
    "plt.scatter(x=concs, y=muts)\n",
    "plt.plot(concs, muts)"
   ]
  },
  {
   "cell_type": "code",
   "execution_count": null,
   "metadata": {
    "collapsed": true
   },
   "outputs": [],
   "source": []
  },
  {
   "cell_type": "code",
   "execution_count": null,
   "metadata": {
    "collapsed": true
   },
   "outputs": [],
   "source": []
  }
 ],
 "metadata": {
  "anaconda-cloud": {},
  "kernelspec": {
   "display_name": "Python [Root]",
   "language": "python",
   "name": "Python [Root]"
  },
  "language_info": {
   "codemirror_mode": {
    "name": "ipython",
    "version": 3
   },
   "file_extension": ".py",
   "mimetype": "text/x-python",
   "name": "python",
   "nbconvert_exporter": "python",
   "pygments_lexer": "ipython3",
   "version": "3.5.2"
  }
 },
 "nbformat": 4,
 "nbformat_minor": 0
}
