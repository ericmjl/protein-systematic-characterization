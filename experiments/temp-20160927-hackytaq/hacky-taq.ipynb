{
 "cells": [
  {
   "cell_type": "code",
   "execution_count": 10,
   "metadata": {
    "collapsed": false
   },
   "outputs": [],
   "source": [
    "from Bio import SeqIO\n",
    "from Bio.SeqIO import AbiIO\n",
    "import os"
   ]
  },
  {
   "cell_type": "code",
   "execution_count": 11,
   "metadata": {
    "collapsed": false
   },
   "outputs": [
    {
     "data": {
      "text/plain": [
       "['25-Mn-fw-EM-28.seq',\n",
       " '25-Mn-re-EM-27.seq',\n",
       " '55-Mn-fw-EM-28.seq',\n",
       " '55-Mn-re-EM-27.seq',\n",
       " 'no-Mn-fw-EM-28.seq',\n",
       " 'no-Mn-re-EM-27.seq']"
      ]
     },
     "execution_count": 11,
     "metadata": {},
     "output_type": "execute_result"
    }
   ],
   "source": [
    "seq_files = [f for f in os.listdir(os.getcwd()) if f[-4:] == '.seq']\n",
    "seq_files"
   ]
  },
  {
   "cell_type": "code",
   "execution_count": 12,
   "metadata": {
    "collapsed": false
   },
   "outputs": [
    {
     "data": {
      "text/plain": [
       "['25-Mn-fw-EM-28.ab1',\n",
       " '25-Mn-re-EM-27.ab1',\n",
       " '55-Mn-fw-EM-28.ab1',\n",
       " '55-Mn-re-EM-27.ab1',\n",
       " 'no-Mn-fw-EM-28.ab1',\n",
       " 'no-Mn-re-EM-27.ab1']"
      ]
     },
     "execution_count": 12,
     "metadata": {},
     "output_type": "execute_result"
    }
   ],
   "source": [
    "abi_files = [f for f in os.listdir(os.getcwd()) if f[-4:] == '.ab1']\n",
    "abi_files"
   ]
  },
  {
   "cell_type": "code",
   "execution_count": 17,
   "metadata": {
    "collapsed": false
   },
   "outputs": [
    {
     "data": {
      "text/plain": [
       "[SeqRecord(seq=Seq('NNNNNNNNNACNANNNNTNGCTNGATTCTTTATGGATCTCACCTTGTTTCTACA...NNN', SingleLetterAlphabet()), id='25-Mn-fw-EM-28_E12.ab1', name='25-Mn-fw-EM-28_E12.ab1', description='25-Mn-fw-EM-28_E12.ab1', dbxrefs=[]),\n",
       " SeqRecord(seq=Seq('NNNNCTNNNNNNNTCCCTGTGTTTCACTGACCTCCTCAGGAGATAATAATACAT...NNN', SingleLetterAlphabet()), id='25-Mn-re-EM-27_F12.ab1', name='25-Mn-re-EM-27_F12.ab1', description='25-Mn-re-EM-27_F12.ab1', dbxrefs=[]),\n",
       " SeqRecord(seq=Seq('NNNNNNCCTNNNGNAGANAATAATACATTCACNTTGGTCTCANGGTGATTTCTG...NNN', SingleLetterAlphabet()), id='55-Mn-fw-EM-28_G12.ab1', name='55-Mn-fw-EM-28_G12.ab1', description='55-Mn-fw-EM-28_G12.ab1', dbxrefs=[]),\n",
       " SeqRecord(seq=Seq('NNNNNNNNNNNGTCTNNNNGTTCCCTGTGTTTCACTGACCTCCTCAGGAGATAA...NNN', SingleLetterAlphabet()), id='55-Mn-re-EM-27_H12.ab1', name='55-Mn-re-EM-27_H12.ab1', description='55-Mn-re-EM-27_H12.ab1', dbxrefs=[]),\n",
       " SeqRecord(seq=Seq('CNNNNNAANGNGNANNNNAANTCNTNNNNNNNNAACTNNNNNNNNNNNNNNNNN...NNN', SingleLetterAlphabet()), id='no-Mn-fw-EM-28_C12.ab1', name='no-Mn-fw-EM-28_C12.ab1', description='no-Mn-fw-EM-28_C12.ab1', dbxrefs=[]),\n",
       " SeqRecord(seq=Seq('NNNNNNNTNNNNACNGNCNNNANNNCTGACAATATCTTATTCATCCTCNATGAT...NNN', SingleLetterAlphabet()), id='no-Mn-re-EM-27_D12.ab1', name='no-Mn-re-EM-27_D12.ab1', description='no-Mn-re-EM-27_D12.ab1', dbxrefs=[])]"
      ]
     },
     "execution_count": 17,
     "metadata": {},
     "output_type": "execute_result"
    }
   ],
   "source": [
    "sequences = []\n",
    "traces = []\n",
    "for f in seq_files:\n",
    "    sequences.append(SeqIO.read(f, 'fasta'))\n",
    "    \n",
    "sequences"
   ]
  },
  {
   "cell_type": "code",
   "execution_count": 18,
   "metadata": {
    "collapsed": false
   },
   "outputs": [
    {
     "data": {
      "text/plain": [
       "[SeqRecord(seq=Seq('NNNNNNNNNACNANNNNTNGCTNGATTCTTTATGGATCTCACCTTGTTTCTACA...NNN', IUPACUnambiguousDNA()), id='25-Mn-fw-EM-28', name='25-Mn-fw-EM-28', description='', dbxrefs=[]),\n",
       " SeqRecord(seq=Seq('NNNNCTNNNNNNNTCCCTGTGTTTCACTGACCTCCTCAGGAGATAATAATACAT...NNN', IUPACUnambiguousDNA()), id='25-Mn-re-EM-27', name='25-Mn-re-EM-27', description='', dbxrefs=[]),\n",
       " SeqRecord(seq=Seq('NNNNNNCCTNNNGNAGANAATAATACATTCACNTTGGTCTCANGGTGATTTCTG...NNN', IUPACUnambiguousDNA()), id='55-Mn-fw-EM-28', name='55-Mn-fw-EM-28', description='', dbxrefs=[]),\n",
       " SeqRecord(seq=Seq('NNNNNNNNNNNGTCTNNNNGTTCCCTGTGTTTCACTGACCTCCTCAGGAGATAA...NNN', IUPACUnambiguousDNA()), id='55-Mn-re-EM-27', name='55-Mn-re-EM-27', description='', dbxrefs=[]),\n",
       " SeqRecord(seq=Seq('CNNNNNAANGNGNANNNNAANTCNTNNNNNNNNAACTNNNNNNNNNNNNNNNNN...NNN', IUPACUnambiguousDNA()), id='no-Mn-fw-EM-28', name='no-Mn-fw-EM-28', description='', dbxrefs=[]),\n",
       " SeqRecord(seq=Seq('NNNNNNNTNNNNACNGNCNNNANNNCTGACAATATCTTATTCATCCTCNATGAT...NNN', IUPACUnambiguousDNA()), id='no-Mn-re-EM-27', name='no-Mn-re-EM-27', description='', dbxrefs=[])]"
      ]
     },
     "execution_count": 18,
     "metadata": {},
     "output_type": "execute_result"
    }
   ],
   "source": [
    "for f in abi_files:\n",
    "    traces.append(SeqIO.read(f, 'abi'))\n",
    "    \n",
    "traces"
   ]
  },
  {
   "cell_type": "code",
   "execution_count": 35,
   "metadata": {
    "collapsed": false
   },
   "outputs": [
    {
     "data": {
      "text/plain": [
       "SeqRecord(seq=Seq('AGAGACTGACAATAACTTATTCATCGTCGATGATGTGGGAGATTAACGGTCCTG...TAC', SingleLetterAlphabet()), id='A/Victoria/361/2011|KJ942687', name='A/Victoria/361/2011|KJ942687', description='A/Victoria/361/2011|KJ942687', dbxrefs=[])"
      ]
     },
     "execution_count": 35,
     "metadata": {},
     "output_type": "execute_result"
    }
   ],
   "source": [
    "# Open the original sequence\n",
    "original = SeqIO.read('../../data/victoria-pb2.fasta', 'fasta')\n",
    "original = original[1600:]\n",
    "original"
   ]
  },
  {
   "cell_type": "code",
   "execution_count": 62,
   "metadata": {
    "collapsed": false
   },
   "outputs": [
    {
     "data": {
      "text/plain": [
       "4"
      ]
     },
     "execution_count": 62,
     "metadata": {},
     "output_type": "execute_result"
    }
   ],
   "source": [
    "# Write the \"fw\" to disk\n",
    "fw_sequences = [s for s in sequences if '-fw-' in s.id]\n",
    "fw_sequences.append(original)\n",
    "SeqIO.write(fw_sequences, 'forward.fasta', 'fasta')"
   ]
  },
  {
   "cell_type": "code",
   "execution_count": 63,
   "metadata": {
    "collapsed": false
   },
   "outputs": [
    {
     "data": {
      "text/plain": [
       "3"
      ]
     },
     "execution_count": 63,
     "metadata": {},
     "output_type": "execute_result"
    }
   ],
   "source": [
    "re_sequences = [s for s in sequences if '-re' in s.id]\n",
    "SeqIO.write(re_sequences, 'reverse.fasta', 'fasta')"
   ]
  },
  {
   "cell_type": "code",
   "execution_count": 64,
   "metadata": {
    "collapsed": false,
    "scrolled": true
   },
   "outputs": [
    {
     "data": {
      "text/plain": [
       "('Using 4 threads\\nRead 4 sequences (type: DNA) from forward.fasta\\nnot more sequences (4) than cluster-size (100), turn off mBed\\nSetting options automatically based on input sequence characteristics (might overwrite some of your options).\\nAuto settings: Enabling mBed.\\nAuto settings: Setting iteration to 1.\\nUsing 3 seeds (chosen with constant stride from length sorted seqs) for mBed (from a total of 4 sequences)\\nCalculating pairwise ktuple-distances...\\nKtuple-distance calculation progress: 0 % (0 out of 9)\\nKtuple-distance calculation progress: 11 % (1 out of 9)\\nKtuple-distance calculation progress: 22 % (2 out of 9)\\nKtuple-distance calculation progress done. CPU time: 0.00u 0.00s 00:00:00.00 Elapsed: 00:00:00\\nmBed created 1 cluster/s (with a minimum of 1 and a soft maximum of 100 sequences each)\\nDistance calculation within sub-clusters: 0 % (0 out of 1)\\nDistance calculation within sub-clusters done. CPU time: 0.00u 0.00s 00:00:00.00 Elapsed: 00:00:00\\nGuide-tree computation (mBed) done.\\nProgressive alignment progress: 33 % (1 out of 3)\\nProgressive alignment progress: 66 % (2 out of 3)\\nProgressive alignment progress: 100 % (3 out of 3)\\nProgressive alignment progress done. CPU time: 0.39u 0.09s 00:00:00.48 Elapsed: 00:00:00\\nIteration step 1 out of 1\\nComputing new guide tree (iteration step 0)\\nCalculating pairwise aligned identity distances...\\nPairwise distance calculation progress: 0 % (0 out of 10)\\nPairwise distance calculation progress: 0 % (0 out of 10)\\nPairwise distance calculation progress: 10 % (1 out of 10)\\nPairwise distance calculation progress: 50 % (5 out of 10)\\nPairwise identity calculation progress done. CPU time: 0.00u 0.00s 00:00:00.00 Elapsed: 00:00:00\\nGuide-tree computation done.\\nComputing HMM from alignment\\nProgressive alignment progress: 33 % (1 out of 3)\\nProgressive alignment progress: 66 % (2 out of 3)\\nProgressive alignment progress: 100 % (3 out of 3)\\nProgressive alignment progress done. CPU time: 1.16u 0.18s 00:00:01.34 Elapsed: 00:00:01\\nAlignment written to forward.aligned.fasta\\n',\n",
       " '')"
      ]
     },
     "execution_count": 64,
     "metadata": {},
     "output_type": "execute_result"
    }
   ],
   "source": [
    "from Bio.Align.Applications import ClustalOmegaCommandline\n",
    "\n",
    "cline = ClustalOmegaCommandline(infile='forward.fasta', outfile='forward.aligned.fasta', verbose=True, auto=True, force=True)\n",
    "cline()"
   ]
  },
  {
   "cell_type": "code",
   "execution_count": 65,
   "metadata": {
    "collapsed": false,
    "scrolled": true
   },
   "outputs": [
    {
     "name": "stdout",
     "output_type": "stream",
     "text": [
      "SingleLetterAlphabet() alignment with 4 rows and 711 columns\n",
      "GGTACCTCTAGAGTNNTACCTATCAATGGATCATCAGAAATTGG...--- 25-Mn-fw-EM-28_E12.ab1\n",
      "GNTCGGTTTTGGTCANTACCTATCAATGGATCATCAGAAATTGG...--- 55-Mn-fw-EM-28_G12.ab1\n",
      "AGTCGGTTTTGGTCAATACCTATCAATGGATCATCAGAAATTGG...NNN no-Mn-fw-EM-28_C12.ab1\n",
      "AGTCGGTTTTGGTCAATACCTATCAATGGATCATCAGAAATTGG...--- A/Victoria/361/2011|KJ942687\n"
     ]
    }
   ],
   "source": [
    "from Bio import AlignIO\n",
    "\n",
    "aln = AlignIO.read('forward.aligned.fasta', 'fasta')\n",
    "print(aln[:, 100:-100])"
   ]
  },
  {
   "cell_type": "code",
   "execution_count": 66,
   "metadata": {
    "collapsed": true
   },
   "outputs": [],
   "source": [
    "from Levenshtein import distance"
   ]
  },
  {
   "cell_type": "code",
   "execution_count": 67,
   "metadata": {
    "collapsed": false
   },
   "outputs": [
    {
     "name": "stdout",
     "output_type": "stream",
     "text": [
      "175\n",
      "217\n",
      "187\n"
     ]
    }
   ],
   "source": [
    "# Analyze the forward sequences\n",
    "mn_00 = aln[2].seq\n",
    "mn_25 = aln[0].seq\n",
    "mn_55 = aln[1].seq\n",
    "\n",
    "print(distance(str(original[150:-150].seq), str(mn_00[150:-150]), ))\n",
    "print(distance(str(original[150:-150].seq), str(mn_25[150:-150]), ))\n",
    "print(distance(str(original[150:-150].seq), str(mn_55[150:-150]), ))"
   ]
  },
  {
   "cell_type": "code",
   "execution_count": 91,
   "metadata": {
    "collapsed": false
   },
   "outputs": [
    {
     "data": {
      "text/plain": [
       "(-1, 3)"
      ]
     },
     "execution_count": 91,
     "metadata": {},
     "output_type": "execute_result"
    },
    {
     "data": {
      "image/png": "[encoded data removed]",
      "text/plain": [
       "<matplotlib.figure.Figure at 0x1108bdac8>"
      ]
     },
     "metadata": {},
     "output_type": "display_data"
    }
   ],
   "source": [
    "from collections import Counter\n",
    "import matplotlib.pyplot as plt\n",
    "%matplotlib inline\n",
    "num_gaps = []\n",
    "for pos in range(aln.get_alignment_length()):\n",
    "    letters = Counter(aln[:, pos])\n",
    "    num_gaps.append(letters['-'])\n",
    "plt.plot(num_gaps)\n",
    "plt.ylim(-1, 3)"
   ]
  },
  {
   "cell_type": "code",
   "execution_count": 77,
   "metadata": {
    "collapsed": true
   },
   "outputs": [],
   "source": [
    "def last_element_index(li, el):\n",
    "    \"\"\"\n",
    "    li: list\n",
    "    el: element\n",
    "    \n",
    "    returns index of first occurrence of el in li.\n",
    "    \"\"\"\n",
    "    idx = 0\n",
    "    for i, l in enumerate(li):\n",
    "        if l == el:\n",
    "            idx = i\n",
    "    return idx"
   ]
  },
  {
   "cell_type": "code",
   "execution_count": 78,
   "metadata": {
    "collapsed": false
   },
   "outputs": [
    {
     "data": {
      "text/plain": [
       "775"
      ]
     },
     "execution_count": 78,
     "metadata": {},
     "output_type": "execute_result"
    }
   ],
   "source": [
    "last_element_index(num_gaps, 0.0)"
   ]
  },
  {
   "cell_type": "code",
   "execution_count": 79,
   "metadata": {
    "collapsed": false
   },
   "outputs": [
    {
     "data": {
      "text/plain": [
       "(46, 775)"
      ]
     },
     "execution_count": 79,
     "metadata": {},
     "output_type": "execute_result"
    }
   ],
   "source": [
    "start = num_gaps.index(0)\n",
    "end = last_element_index(num_gaps, 0)\n",
    "start, end"
   ]
  },
  {
   "cell_type": "code",
   "execution_count": 86,
   "metadata": {
    "collapsed": false
   },
   "outputs": [
    {
     "data": {
      "text/plain": [
       "178"
      ]
     },
     "execution_count": 86,
     "metadata": {},
     "output_type": "execute_result"
    }
   ],
   "source": [
    "aln = aln[:, start:end]\n",
    "\n",
    "distance(str(aln[0].seq), str(aln[3].seq))"
   ]
  },
  {
   "cell_type": "code",
   "execution_count": 87,
   "metadata": {
    "collapsed": false
   },
   "outputs": [
    {
     "data": {
      "text/plain": [
       "108"
      ]
     },
     "execution_count": 87,
     "metadata": {},
     "output_type": "execute_result"
    }
   ],
   "source": [
    "distance(str(aln[1].seq), str(aln[3].seq))"
   ]
  },
  {
   "cell_type": "code",
   "execution_count": 88,
   "metadata": {
    "collapsed": false
   },
   "outputs": [
    {
     "data": {
      "text/plain": [
       "56"
      ]
     },
     "execution_count": 88,
     "metadata": {},
     "output_type": "execute_result"
    }
   ],
   "source": [
    "distance(str(aln[2].seq), str(aln[3].seq))"
   ]
  },
  {
   "cell_type": "code",
   "execution_count": 89,
   "metadata": {
    "collapsed": false
   },
   "outputs": [
    {
     "data": {
      "text/plain": [
       "'CAAATGAGAGACGTACTTGGGACATTTGACACTGCCCAGATAATAAAGCTTCTCCCTTTTGCAGCTGCTCCACCGAAGCAAAGCAGAATGCAGTTCTCTTCACTGACTGTGAATGTGAGGGGATCAGGGATGAGAATACTTGTAAGGGGCAATTCTCCTGTATTCAACTACAACAAAACCACTAAAAGGCTAACAATTCTCGGAAAAGATGCCGGCACTTTAATTGAAGACCCANATGAAAGCACATCAGGAGTGGAGTCCGCCGTCTTGAGAGGGTTCCTCATTATAGGTAAGGAAGACAGAANATACGGACCANCATTAANCATCAATGAACTGAGTAACCTTGCAAAAGGGGAAAAGGNTAATGTGCTAATCGGGCANGGAGACGTGNTGTTGGTAATGANACNTAAANCGGGACTCTAGCATACTNTNGTGACACTCACACAGCNACGNGNATNANTNNAGATNNNNCATNNANNNAAATCNNGNNNNCCTCNTA'"
      ]
     },
     "execution_count": 89,
     "metadata": {},
     "output_type": "execute_result"
    }
   ],
   "source": [
    "str(aln[2].seq)"
   ]
  },
  {
   "cell_type": "code",
   "execution_count": 92,
   "metadata": {
    "collapsed": false
   },
   "outputs": [
    {
     "data": {
      "text/plain": [
       "'CAAATGAGAGACGTACTTGGGACATTTGACACTGCCCAGATAATAAAGCTTCTCCCTTTTGCAGCTGCTCCACCGAAGCAAAGCAGAATGCAGTTCTCTTCACTGACTGTGAATGTGAGGGGATCAGGGATGAGAATACTTGTAAGGGGCAATTCTCCTGTATTCAACTACAACAAAACCACTAAAAGGCTAACAATTCTCGGAAAAGATGCCGGCACTTTAATTGAAGACCCAGATGAAAGCACATCAGGAGTGGAGTCCGCCGTCTTGAGAGGGTTCCTCATTATAGGTAAGGAAGACAGAAGATACGGACCAGCATTAAGCATCAATGAACTGAGTAACCTTGCAAAAGGGGAAAAGGCTAATGTGCTAATCGGGCAAGGAGACGTGGTGTTGGTAATGAAACGAAAACGGGACTCTAGCATACTTACTGACAGCCAGACAGCGACCAAAAGAATTCGGATGGCCATCAATTAATGCTGAATAGTTTAAAAACGAC'"
      ]
     },
     "execution_count": 92,
     "metadata": {},
     "output_type": "execute_result"
    }
   ],
   "source": [
    "str(aln[3].seq)"
   ]
  },
  {
   "cell_type": "code",
   "execution_count": null,
   "metadata": {
    "collapsed": true
   },
   "outputs": [],
   "source": []
  }
 ],
 "metadata": {
  "anaconda-cloud": {},
  "kernelspec": {
   "display_name": "Python [Root]",
   "language": "python",
   "name": "Python [Root]"
  },
  "language_info": {
   "codemirror_mode": {
    "name": "ipython",
    "version": 3
   },
   "file_extension": ".py",
   "mimetype": "text/x-python",
   "name": "python",
   "nbconvert_exporter": "python",
   "pygments_lexer": "ipython3",
   "version": "3.5.2"
  }
 },
 "nbformat": 4,
 "nbformat_minor": 0
}
