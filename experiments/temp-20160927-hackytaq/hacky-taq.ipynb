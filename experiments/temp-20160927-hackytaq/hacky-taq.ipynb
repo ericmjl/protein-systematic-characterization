{
 "cells": [
  {
   "cell_type": "code",
   "execution_count": 65,
   "metadata": {
    "collapsed": false
   },
   "outputs": [],
   "source": [
    "from Bio import SeqIO\n",
    "from Bio.SeqIO import AbiIO\n",
    "import os\n",
    "import seaborn as sns"
   ]
  },
  {
   "cell_type": "code",
   "execution_count": 66,
   "metadata": {
    "collapsed": false
   },
   "outputs": [
    {
     "data": {
      "text/plain": [
       "['0-Mn-fw-EM-28.seq',\n",
       " '0-Mn-fw-r1-EM-28.seq',\n",
       " '0-Mn-fw-r2-EM-28.seq',\n",
       " '0-Mn-fw-r3-EM-28.seq',\n",
       " '0-Mn-re-EM-27.seq',\n",
       " '10-Mn-fw-r1-EM-28.seq',\n",
       " '10-Mn-fw-r3-EM-28.seq',\n",
       " '15-Mn-fw-EM-28.seq',\n",
       " '15-Mn-re-EM-27.seq',\n",
       " '20-Mn-Fw-EM-28.seq',\n",
       " '20-Mn-fw-r1-EM-28.seq',\n",
       " '20-Mn-fw-r2-EM-28.seq',\n",
       " '20-Mn-fw-r3-EM-28.seq',\n",
       " '20-Mn-re-EM-27.seq',\n",
       " '25-Mn-fw-EM-28.seq',\n",
       " '25-Mn-fw-r1-EM-28.seq',\n",
       " '25-Mn-fw-r2-EM-28.seq',\n",
       " '25-Mn-fw-r3-EM-28.seq',\n",
       " '25-Mn-re-EM-27.seq',\n",
       " '30-Mn-fw-EM-28.seq',\n",
       " '30-Mn-fw-r1-EM-28.seq',\n",
       " '30-Mn-fw-r2-EM-28.seq',\n",
       " '30-Mn-fw-r3-EM-28.seq',\n",
       " '30-Mn-re-EM-27.seq',\n",
       " '35-Mn-fw-EM-28.seq',\n",
       " '35-Mn-fw-r1-EM-28.seq',\n",
       " '35-Mn-fw-r2-EM-28.seq',\n",
       " '35-Mn-fw-r3-EM-28.seq',\n",
       " '35-Mn-re-EM-27.seq',\n",
       " '40-Mn-fw-r1-EM-28.seq',\n",
       " '40-Mn-fw-r2-EM-28.seq',\n",
       " '50-Mn-fw-r1-EM-28.seq',\n",
       " '50-Mn-fw-r2-EM-28.seq',\n",
       " '50-Mn-fw-r3-EM-28.seq',\n",
       " '55-Mn-fw-EM-28.seq',\n",
       " '55-Mn-re-EM-27.seq']"
      ]
     },
     "execution_count": 66,
     "metadata": {},
     "output_type": "execute_result"
    }
   ],
   "source": [
    "seq_files = [f for f in os.listdir(os.getcwd()) if f[-4:] == '.seq']\n",
    "seq_files"
   ]
  },
  {
   "cell_type": "code",
   "execution_count": 67,
   "metadata": {
    "collapsed": false
   },
   "outputs": [
    {
     "data": {
      "text/plain": [
       "['0-Mn-fw-EM-28.ab1',\n",
       " '0-Mn-re-EM-27.ab1',\n",
       " '15-Mn-fw-EM-28.ab1',\n",
       " '15-Mn-re-EM-27.ab1',\n",
       " '20-Mn-Fw-EM-28.ab1',\n",
       " '20-Mn-re-EM-27.ab1',\n",
       " '25-Mn-fw-EM-28.ab1',\n",
       " '25-Mn-re-EM-27.ab1',\n",
       " '30-Mn-fw-EM-28.ab1',\n",
       " '30-Mn-re-EM-27.ab1',\n",
       " '35-Mn-fw-EM-28.ab1',\n",
       " '35-Mn-re-EM-27.ab1',\n",
       " '55-Mn-fw-EM-28.ab1',\n",
       " '55-Mn-re-EM-27.ab1']"
      ]
     },
     "execution_count": 67,
     "metadata": {},
     "output_type": "execute_result"
    }
   ],
   "source": [
    "abi_files = [f for f in os.listdir(os.getcwd()) if f[-4:] == '.ab1']\n",
    "abi_files"
   ]
  },
  {
   "cell_type": "code",
   "execution_count": 68,
   "metadata": {
    "collapsed": false
   },
   "outputs": [
    {
     "data": {
      "text/plain": [
       "[SeqRecord(seq=Seq('CNNNNNAANGNGNANNNNAANTCNTNNNNNNNNAACTNNNNNNNNNNNNNNNNN...NNN', SingleLetterAlphabet()), id='0-Mn-fw-EM-28.seq', name='0-Mn-fw-EM-28.seq', description='0-Mn-fw-EM-28.seq', dbxrefs=[]),\n",
       " SeqRecord(seq=Seq('NNNAAGNANGNCNNACAATAACTTNATTNCATCGTCGATGATGTGGGAGATTAA...GNN', SingleLetterAlphabet()), id='0-Mn-fw-r1-EM-28.seq', name='0-Mn-fw-r1-EM-28.seq', description='0-Mn-fw-r1-EM-28.seq', dbxrefs=[]),\n",
       " SeqRecord(seq=Seq('NNNNNNNCNNACAATAACTNNATNNCNTCGTCGATGATGTGGGAGATTAACGGT...NNN', SingleLetterAlphabet()), id='0-Mn-fw-r2-EM-28.seq', name='0-Mn-fw-r2-EM-28.seq', description='0-Mn-fw-r2-EM-28.seq', dbxrefs=[]),\n",
       " SeqRecord(seq=Seq('NNNNNNNNNNNNNNNNNNANNNNNNNNNNNNNNNNNNNNNNNNNNNNNNNNGNN...NNN', SingleLetterAlphabet()), id='0-Mn-fw-r3-EM-28.seq', name='0-Mn-fw-r3-EM-28.seq', description='0-Mn-fw-r3-EM-28.seq', dbxrefs=[]),\n",
       " SeqRecord(seq=Seq('NNNNNNNTNNNNACNGNCNNNANNNCTGACAATATCTTATTCATCCTCNATGAT...NNN', SingleLetterAlphabet()), id='0-Mn-re-EM-27.seq', name='0-Mn-re-EM-27.seq', description='0-Mn-re-EM-27.seq', dbxrefs=[]),\n",
       " SeqRecord(seq=Seq('NNNNNNNNNNNNNNNNNNANNNANNNNNNNGANNNTTNAAAAACGACCTTGTTT...GGG', SingleLetterAlphabet()), id='10-Mn-fw-r1-EM-28.seq', name='10-Mn-fw-r1-EM-28.seq', description='10-Mn-fw-r1-EM-28.seq', dbxrefs=[]),\n",
       " SeqRecord(seq=Seq('NNNANNNNNNCNNGACAATTACTNGCTTGATNNTTTANAGANGACCTTGTTTCT...GNN', SingleLetterAlphabet()), id='10-Mn-fw-r3-EM-28.seq', name='10-Mn-fw-r3-EM-28.seq', description='10-Mn-fw-r3-EM-28.seq', dbxrefs=[]),\n",
       " SeqRecord(seq=Seq('NNNCNNNNNNNNNNNNNNNNNNANNATCCTNNAGNANATCTTATTCNTNGNGGA...NGN', SingleLetterAlphabet()), id='15-Mn-fw-EM-28.seq', name='15-Mn-fw-EM-28.seq', description='15-Mn-fw-EM-28.seq', dbxrefs=[]),\n",
       " SeqRecord(seq=Seq('NNNNCNNANNNNNNNNNCACTNNNNNCACNNAACNNAATGCTTTTTCTCGAGGG...NNN', SingleLetterAlphabet()), id='15-Mn-re-EM-27.seq', name='15-Mn-re-EM-27.seq', description='15-Mn-re-EM-27.seq', dbxrefs=[]),\n",
       " SeqRecord(seq=Seq('ANNNNNNNCTNNNNNANANNATANNACATCNCNNNTATGGATCNCANNGAGATT...NNN', SingleLetterAlphabet()), id='20-Mn-Fw-EM-28.seq', name='20-Mn-Fw-EM-28.seq', description='20-Mn-Fw-EM-28.seq', dbxrefs=[]),\n",
       " SeqRecord(seq=Seq('NNNNNNNNCNNACAATAACTTATTCNTCGTCGATGATGAGGGAGATTAACGGTC...ANN', SingleLetterAlphabet()), id='20-Mn-fw-r1-EM-28.seq', name='20-Mn-fw-r1-EM-28.seq', description='20-Mn-fw-r1-EM-28.seq', dbxrefs=[]),\n",
       " SeqRecord(seq=Seq('NNNNNGNCNGACAATAACTTATTCNTCGTCGATGATGTGGGAGATTAACGGTCC...NNN', SingleLetterAlphabet()), id='20-Mn-fw-r2-EM-28.seq', name='20-Mn-fw-r2-EM-28.seq', description='20-Mn-fw-r2-EM-28.seq', dbxrefs=[]),\n",
       " SeqRecord(seq=Seq('NNNNNNNNCTNGACAATAACTTATTCATNCGTCGATGATGTGGGAGATTAACGG...NNN', SingleLetterAlphabet()), id='20-Mn-fw-r3-EM-28.seq', name='20-Mn-fw-r3-EM-28.seq', description='20-Mn-fw-r3-EM-28.seq', dbxrefs=[]),\n",
       " SeqRecord(seq=Seq('NNNNNCNANNNNNNNNNNNNNTCAGTTCCCTGTGTTTCACTGACCTCCTCAGGA...NNN', SingleLetterAlphabet()), id='20-Mn-re-EM-27.seq', name='20-Mn-re-EM-27.seq', description='20-Mn-re-EM-27.seq', dbxrefs=[]),\n",
       " SeqRecord(seq=Seq('NNNNNNNNNACNANNNNTNGCTNGATTCTTTATGGATCTCACCTTGTTTCTACA...NNN', SingleLetterAlphabet()), id='25-Mn-fw-EM-28.seq', name='25-Mn-fw-EM-28.seq', description='25-Mn-fw-EM-28.seq', dbxrefs=[]),\n",
       " SeqRecord(seq=Seq('NNNNNNNNNNCTNNACAATTNANNNGCTNGAATANTTTAAAAACGACCTTGTTT...ANN', SingleLetterAlphabet()), id='25-Mn-fw-r1-EM-28.seq', name='25-Mn-fw-r1-EM-28.seq', description='25-Mn-fw-r1-EM-28.seq', dbxrefs=[]),\n",
       " SeqRecord(seq=Seq('NNNNNNNNNNANNNNNNNNNTNTNNNNGCTNANNNNTTTAAAACCNACCTTGTT...ANN', SingleLetterAlphabet()), id='25-Mn-fw-r2-EM-28.seq', name='25-Mn-fw-r2-EM-28.seq', description='25-Mn-fw-r2-EM-28.seq', dbxrefs=[]),\n",
       " SeqRecord(seq=Seq('NNNNNNNNNNNNNGACAATNNANNNNNNNNANNNNTNNANAACCNACCTTGTNN...CTC', SingleLetterAlphabet()), id='25-Mn-fw-r3-EM-28.seq', name='25-Mn-fw-r3-EM-28.seq', description='25-Mn-fw-r3-EM-28.seq', dbxrefs=[]),\n",
       " SeqRecord(seq=Seq('NNNNCTNNNNNNNTCCCTGTGTTTCACTGACCTCCTCAGGAGATAATAATACAT...NNN', SingleLetterAlphabet()), id='25-Mn-re-EM-27.seq', name='25-Mn-re-EM-27.seq', description='25-Mn-re-EM-27.seq', dbxrefs=[]),\n",
       " SeqRecord(seq=Seq('ANNNNANNNGANNATAACTTATTACATCNNCTTTGNNNATGAATAGTTTAAAAA...NNN', SingleLetterAlphabet()), id='30-Mn-fw-EM-28.seq', name='30-Mn-fw-EM-28.seq', description='30-Mn-fw-EM-28.seq', dbxrefs=[]),\n",
       " SeqRecord(seq=Seq('NNNNNNNNNCTNGNNANNNNGATNGNNNNNNTNATTAACNACCTTNNTTGTNNA...NGN', SingleLetterAlphabet()), id='30-Mn-fw-r1-EM-28.seq', name='30-Mn-fw-r1-EM-28.seq', description='30-Mn-fw-r1-EM-28.seq', dbxrefs=[]),\n",
       " SeqRecord(seq=Seq('NNNNNGNCTNGACAATAACTTATTCNTCGTCGATGATGTGGGAGATTAACGGTC...ANN', SingleLetterAlphabet()), id='30-Mn-fw-r2-EM-28.seq', name='30-Mn-fw-r2-EM-28.seq', description='30-Mn-fw-r2-EM-28.seq', dbxrefs=[]),\n",
       " SeqRecord(seq=Seq('NNNNNNAGNNNNNNNACAATTTTANNNGCTNNATANTTTAAAAACGACCTTGTT...GTT', SingleLetterAlphabet()), id='30-Mn-fw-r3-EM-28.seq', name='30-Mn-fw-r3-EM-28.seq', description='30-Mn-fw-r3-EM-28.seq', dbxrefs=[]),\n",
       " SeqRecord(seq=Seq('NNNNNNNAATANNNTATTNNCAGTCTCTCAGTTCCCTGTGTTTCACTGACCTCC...NNN', SingleLetterAlphabet()), id='30-Mn-re-EM-27.seq', name='30-Mn-re-EM-27.seq', description='30-Mn-re-EM-27.seq', dbxrefs=[]),\n",
       " SeqRecord(seq=Seq('CCNNNNNAANGNNNNNNNNNNNNNNTTTNNNACTACCNNNNNNNNCCTCNNNNA...NNN', SingleLetterAlphabet()), id='35-Mn-fw-EM-28.seq', name='35-Mn-fw-EM-28.seq', description='35-Mn-fw-EM-28.seq', dbxrefs=[]),\n",
       " SeqRecord(seq=Seq('NNNNNNNNGNCTNGACANNNNNNTATTNATCGTCGATNNTNNNGGNACATTACG...ANN', SingleLetterAlphabet()), id='35-Mn-fw-r1-EM-28.seq', name='35-Mn-fw-r1-EM-28.seq', description='35-Mn-fw-r1-EM-28.seq', dbxrefs=[]),\n",
       " SeqRecord(seq=Seq('NNNNNNNNNNNNNNGTNGGNNNGAATNNNTTTNANNANCGACCTTGTNNCTACA...ANN', SingleLetterAlphabet()), id='35-Mn-fw-r2-EM-28.seq', name='35-Mn-fw-r2-EM-28.seq', description='35-Mn-fw-r2-EM-28.seq', dbxrefs=[]),\n",
       " SeqRecord(seq=Seq('TNNNNNNNNCTCGACAATTNCTTGNTNNNTCNTTTAANATCAACCTTGTTTCTA...ANN', SingleLetterAlphabet()), id='35-Mn-fw-r3-EM-28.seq', name='35-Mn-fw-r3-EM-28.seq', description='35-Mn-fw-r3-EM-28.seq', dbxrefs=[]),\n",
       " SeqRecord(seq=Seq('NNNNCNNNNNNNNNNNANNNNNNNAGGNCAGTTCCCTGNGTTNNNNTGACCTCC...NNN', SingleLetterAlphabet()), id='35-Mn-re-EM-27.seq', name='35-Mn-re-EM-27.seq', description='35-Mn-re-EM-27.seq', dbxrefs=[]),\n",
       " SeqRecord(seq=Seq('NNNNNNNNNNNNNNACAATAACTTATNTNTTCNGCNNNNNNNNNNAAAAACNAC...NNN', SingleLetterAlphabet()), id='40-Mn-fw-r1-EM-28.seq', name='40-Mn-fw-r1-EM-28.seq', description='40-Mn-fw-r1-EM-28.seq', dbxrefs=[]),\n",
       " SeqRecord(seq=Seq('NNNNNNNNNNNNNNNNNAATTAACNNGNNNNCATTCGTCTATGATCGAGGGTGT...ATN', SingleLetterAlphabet()), id='40-Mn-fw-r2-EM-28.seq', name='40-Mn-fw-r2-EM-28.seq', description='40-Mn-fw-r2-EM-28.seq', dbxrefs=[]),\n",
       " SeqRecord(seq=Seq('NNNNNNNNNNNNNGNNNNNNNNNNNNNNNNNNGTCNAAAAACAACCNTGTTTCT...NNN', SingleLetterAlphabet()), id='50-Mn-fw-r1-EM-28.seq', name='50-Mn-fw-r1-EM-28.seq', description='50-Mn-fw-r1-EM-28.seq', dbxrefs=[]),\n",
       " SeqRecord(seq=Seq('TNNNNNNNNNNNNNNNNNNTNNANNNGNNNNNNNNTTTANNNNCANANCTTGTT...NNN', SingleLetterAlphabet()), id='50-Mn-fw-r2-EM-28.seq', name='50-Mn-fw-r2-EM-28.seq', description='50-Mn-fw-r2-EM-28.seq', dbxrefs=[]),\n",
       " SeqRecord(seq=Seq('NNNNNNNNNNNNNNNNNNNNNNNNNNNNNNNGNNNNNNNNNNNCCNNNNNNCNA...NNN', SingleLetterAlphabet()), id='50-Mn-fw-r3-EM-28.seq', name='50-Mn-fw-r3-EM-28.seq', description='50-Mn-fw-r3-EM-28.seq', dbxrefs=[]),\n",
       " SeqRecord(seq=Seq('NNNNNNCCTNNNGNAGANAATAATACATTCACNTTGGTCTCANGGTGATTTCTG...NNN', SingleLetterAlphabet()), id='55-Mn-fw-EM-28.seq', name='55-Mn-fw-EM-28.seq', description='55-Mn-fw-EM-28.seq', dbxrefs=[]),\n",
       " SeqRecord(seq=Seq('NNNNNNNNNNNGTCTNNNNGTTCCCTGTGTTTCACTGACCTCCTCAGGAGATAA...NNN', SingleLetterAlphabet()), id='55-Mn-re-EM-27.seq', name='55-Mn-re-EM-27.seq', description='55-Mn-re-EM-27.seq', dbxrefs=[])]"
      ]
     },
     "execution_count": 68,
     "metadata": {},
     "output_type": "execute_result"
    }
   ],
   "source": [
    "sequences = []\n",
    "traces = []\n",
    "for f in seq_files:\n",
    "    seq = SeqIO.read(f, 'fasta')\n",
    "    seq.id = f\n",
    "    seq.name = f\n",
    "    seq.description = f\n",
    "    sequences.append(seq)\n",
    "    \n",
    "sequences"
   ]
  },
  {
   "cell_type": "code",
   "execution_count": 69,
   "metadata": {
    "collapsed": false
   },
   "outputs": [
    {
     "data": {
      "text/plain": [
       "SeqRecord(seq=Seq('AGAGACTGACAATAACTTATTCATCGTCGATGATGTGGGAGATTAACGGTCCTG...TAC', SingleLetterAlphabet()), id='A/Victoria/361/2011|KJ942687', name='A/Victoria/361/2011|KJ942687', description='A/Victoria/361/2011|KJ942687', dbxrefs=[])"
      ]
     },
     "execution_count": 69,
     "metadata": {},
     "output_type": "execute_result"
    }
   ],
   "source": [
    "# Open the original sequence\n",
    "original = SeqIO.read('../../data/victoria-pb2.fasta', 'fasta')\n",
    "original = original[1600:]\n",
    "original"
   ]
  },
  {
   "cell_type": "code",
   "execution_count": 70,
   "metadata": {
    "collapsed": false
   },
   "outputs": [
    {
     "data": {
      "text/plain": [
       "29"
      ]
     },
     "execution_count": 70,
     "metadata": {},
     "output_type": "execute_result"
    }
   ],
   "source": [
    "# Write the \"fw\" to disk\n",
    "fw_sequences = [s for s in sequences if '-fw-' in s.id]\n",
    "fw_sequences.append(original)\n",
    "SeqIO.write(fw_sequences, 'forward.fasta', 'fasta')\n",
    "# fw_sequences"
   ]
  },
  {
   "cell_type": "code",
   "execution_count": 71,
   "metadata": {
    "collapsed": false
   },
   "outputs": [
    {
     "data": {
      "text/plain": [
       "7"
      ]
     },
     "execution_count": 71,
     "metadata": {},
     "output_type": "execute_result"
    }
   ],
   "source": [
    "re_sequences = [s for s in sequences if '-re' in s.id or '-Re-' in s.id]\n",
    "SeqIO.write(re_sequences, 'reverse.fasta', 'fasta')"
   ]
  },
  {
   "cell_type": "code",
   "execution_count": 73,
   "metadata": {
    "collapsed": false,
    "scrolled": true
   },
   "outputs": [],
   "source": [
    "# from Bio.Align.Applications import ClustalOmegaCommandline\n",
    "\n",
    "# cline = ClustalOmegaCommandline(infile='forward.fasta', outfile='forward.aligned.fasta', verbose=True, auto=True, force=True)\n",
    "# cline()"
   ]
  },
  {
   "cell_type": "code",
   "execution_count": 74,
   "metadata": {
    "collapsed": false,
    "scrolled": true
   },
   "outputs": [
    {
     "name": "stdout",
     "output_type": "stream",
     "text": [
      "SingleLetterAlphabet() alignment with 29 rows and 863 columns\n",
      "GAGTCGGTTTTGGTCAATACCTATCAATGGATCATCAGAAATTG...--- 0-Mn-fw-EM-28.seq\n",
      "GACTCGGTTTTGGTCAATACCCATCAATGGATCTTCAGAAATTG...NGN 0-Mn-fw-r1-EM-28.seq\n",
      "GAGTCGGTTTTGGTCAATACCCATCAATGGATCATCAGAAAT-T...NGN 0-Mn-fw-r2-EM-28.seq\n",
      "GACTCGGTTTTGGTCAATACCTATCAATGGATCACCANAAAT-T...TNG 0-Mn-fw-r3-EM-28.seq\n",
      "GTGGTACCTCTAGAGTNNACCCANCAATGGAGCTCCCGAAATNG...--- 10-Mn-fw-r1-EM-28.seq\n",
      "TGGTACCTCTAGAGTAATACCCATCAATGGATCTCCAGAAAT-T...--- 10-Mn-fw-r3-EM-28.seq\n",
      "GAGTCGGTTTTGGTCAATACCTATCAATGGATCATCAGAAATTG...--- 15-Mn-fw-EM-28.seq\n",
      "GACTCGGTTTTGGTCCATACCCATCAATGGATCTTCANAAATTG...--- 20-Mn-fw-r1-EM-28.seq\n",
      "GACTCGGTTTCGGTCAATACCCATCAATGGATCTTCANAAATTG...--- 20-Mn-fw-r2-EM-28.seq\n",
      "GACTCGGTTTTGNTCCATACCCATCAATGGATCTTCANAAATTG...--- 20-Mn-fw-r3-EM-28.seq\n",
      "TGGTACCTCTAGAGTNNTACCTATCAATGGATCATCAGAAATTG...--- 25-Mn-fw-EM-28.seq\n",
      "GTGGTACCTCTAGAGTANACCCATCAATGGATCACCAGAAATTG...--- 25-Mn-fw-r1-EM-28.seq\n",
      "CGTGGTACCTCTAGANNNACCCATCANTGGATCATCAGAAA-TT...--- 25-Mn-fw-r2-EM-28.seq\n",
      "CGTGGTACCTCTAGAGTANNCTATCAATGGATCATCAGAAATTG...--- 25-Mn-fw-r3-EM-28.seq\n",
      "GACCTTGTTTCTACACGCGTGGTACCTCTAGAGTACAGAAATTG...--- 30-Mn-fw-EM-28.seq\n",
      "NACCTCTANAGTNAGTANACCTATCAATGGATCATCAGAAATTG...--- 30-Mn-fw-r1-EM-28.seq\n",
      "GACTCGGTTTTGGTCAATACCTATCAATGNATCTTCAAAAATTG...--- 30-Mn-fw-r2-EM-28.seq\n",
      "CGTGGTACCTCTAGAGTNNTGNTACCTCTANAGTTCNGAAATTG...--- 30-Mn-fw-r3-EM-28.seq\n",
      "...\n",
      "GAGTCGGTTTTGGTCAATACCTATCAATGGATCATCAGAAATTG...--- A/Victoria/361/2011|KJ942687\n"
     ]
    }
   ],
   "source": [
    "from Bio import AlignIO\n",
    "\n",
    "aln = AlignIO.read('forward.aligned.fasta', 'fasta')\n",
    "print(aln[:, 100:-100])"
   ]
  },
  {
   "cell_type": "code",
   "execution_count": 75,
   "metadata": {
    "collapsed": true
   },
   "outputs": [],
   "source": [
    "from Levenshtein import distance"
   ]
  },
  {
   "cell_type": "code",
   "execution_count": 76,
   "metadata": {
    "collapsed": false
   },
   "outputs": [
    {
     "name": "stdout",
     "output_type": "stream",
     "text": [
      "445\n",
      "325\n",
      "462\n"
     ]
    }
   ],
   "source": [
    "# Analyze the forward sequences\n",
    "mn_00 = aln[2].seq\n",
    "mn_25 = aln[0].seq\n",
    "mn_55 = aln[1].seq\n",
    "\n",
    "print(distance(str(original[150:-150].seq), str(mn_00[150:-150]), ))\n",
    "print(distance(str(original[150:-150].seq), str(mn_25[150:-150]), ))\n",
    "print(distance(str(original[150:-150].seq), str(mn_55[150:-150]), ))"
   ]
  },
  {
   "cell_type": "code",
   "execution_count": 87,
   "metadata": {
    "collapsed": false
   },
   "outputs": [
    {
     "data": {
      "text/plain": [
       "[<matplotlib.lines.Line2D at 0x137124278>]"
      ]
     },
     "execution_count": 87,
     "metadata": {},
     "output_type": "execute_result"
    },
    {
     "data": {
      "image/png": "[encoded data removed]",
      "text/plain": [
       "<matplotlib.figure.Figure at 0x1298d3668>"
      ]
     },
     "metadata": {},
     "output_type": "display_data"
    }
   ],
   "source": [
    "from collections import Counter\n",
    "import matplotlib.pyplot as plt\n",
    "%matplotlib inline\n",
    "num_gaps = []\n",
    "window_length = 5\n",
    "for pos in range(aln.get_alignment_length()):\n",
    "    temp_aln = aln[:, pos:pos+window_length]\n",
    "    letters = Counter()\n",
    "    for i in range(temp_aln.get_alignment_length()):\n",
    "        letters = letters + Counter(temp_aln[:, i])\n",
    "    # letters = Counter(aln[:, pos:pos+10])\n",
    "    \n",
    "    \n",
    "    b = bool(int(letters['-']/window_length) > 5)\n",
    "    num_gaps.append(b)\n",
    "plt.plot(num_gaps)\n",
    "# plt.ylim(-1, 3)"
   ]
  },
  {
   "cell_type": "code",
   "execution_count": 88,
   "metadata": {
    "collapsed": false
   },
   "outputs": [
    {
     "data": {
      "text/plain": [
       "298"
      ]
     },
     "execution_count": 88,
     "metadata": {},
     "output_type": "execute_result"
    }
   ],
   "source": [
    "# identify the longest sequence of zeros amongst smoothed out data.\n",
    "from itertools import groupby\n",
    "\n",
    "def find_midpoint_of_longest_zeros(num_gaps):\n",
    "    idx_longest_zeros = 0\n",
    "    longest_zeros = [0]\n",
    "    pos_counter = 0\n",
    "    for i, (elm, grp) in enumerate(groupby(num_gaps)):\n",
    "        grp = list(grp)\n",
    "        if not elm and len(grp) > len(longest_zeros):\n",
    "            longest_zeros = grp\n",
    "            idx_longest_zeros = pos_counter\n",
    "        pos_counter += len(grp)\n",
    "    \n",
    "    return int((idx_longest_zeros + len(longest_zeros)) / 2)\n",
    "\n",
    "find_midpoint_of_longest_zeros(num_gaps)"
   ]
  },
  {
   "cell_type": "code",
   "execution_count": 89,
   "metadata": {
    "collapsed": true
   },
   "outputs": [],
   "source": [
    "midpt = find_midpoint_of_longest_zeros(num_gaps)"
   ]
  },
  {
   "cell_type": "code",
   "execution_count": 90,
   "metadata": {
    "collapsed": true
   },
   "outputs": [],
   "source": [
    "import pymc3 as pm\n",
    "import numpy as np"
   ]
  },
  {
   "cell_type": "code",
   "execution_count": 91,
   "metadata": {
    "collapsed": false
   },
   "outputs": [],
   "source": [
    "positions = np.arange(0, len(num_gaps))\n",
    "with pm.Model() as model:\n",
    "    switchpoint1 = pm.DiscreteUniform('switchpoint1', lower=0, upper=midpt)\n",
    "    switchpoint2 = pm.DiscreteUniform('switchpoint2', lower=midpt, upper=len(num_gaps))\n",
    "    \n",
    "    p = pm.Uniform('p1', lower=0, upper=1, shape=4)\n",
    "\n",
    "    rate1 = pm.math.switch(positions < switchpoint1, p[0], p[1])\n",
    "    rate2 = pm.math.switch(positions > switchpoint2, p[2], p[3])\n",
    "    \n",
    "    mutations1 = pm.Bernoulli('mutations1', p=rate1, observed=num_gaps)\n",
    "    mutations2 = pm.Bernoulli('mutations2', p=rate2, observed=num_gaps)"
   ]
  },
  {
   "cell_type": "code",
   "execution_count": 92,
   "metadata": {
    "collapsed": false
   },
   "outputs": [
    {
     "name": "stderr",
     "output_type": "stream",
     "text": [
      "100%|██████████| 5000/5000 [00:07<00:00, 631.78it/s]\n"
     ]
    }
   ],
   "source": [
    "with model:\n",
    "    step1 = pm.NUTS([p])\n",
    "\n",
    "    # Use Metropolis for switchpoint, and missing values since it accommodates discrete variables\n",
    "    step2 = pm.Metropolis([switchpoint1, switchpoint2])\n",
    "    start = pm.find_MAP()\n",
    "    trace = pm.sample(5000, start=start, step=[step1, step2])"
   ]
  },
  {
   "cell_type": "code",
   "execution_count": 93,
   "metadata": {
    "collapsed": false,
    "scrolled": false
   },
   "outputs": [
    {
     "data": {
      "text/plain": [
       "array([[<matplotlib.axes._subplots.AxesSubplot object at 0x13a968358>,\n",
       "        <matplotlib.axes._subplots.AxesSubplot object at 0x13a9a2860>],\n",
       "       [<matplotlib.axes._subplots.AxesSubplot object at 0x13a9e50f0>,\n",
       "        <matplotlib.axes._subplots.AxesSubplot object at 0x13aa2e4e0>],\n",
       "       [<matplotlib.axes._subplots.AxesSubplot object at 0x13a9f8da0>,\n",
       "        <matplotlib.axes._subplots.AxesSubplot object at 0x13aab3c88>]], dtype=object)"
      ]
     },
     "execution_count": 93,
     "metadata": {},
     "output_type": "execute_result"
    },
    {
     "data": {
      "image/png": "[encoded data removed]",
      "text/plain": [
       "<matplotlib.figure.Figure at 0x136a44ac8>"
      ]
     },
     "metadata": {},
     "output_type": "display_data"
    }
   ],
   "source": [
    "pm.traceplot(trace)"
   ]
  },
  {
   "cell_type": "code",
   "execution_count": 94,
   "metadata": {
    "collapsed": false
   },
   "outputs": [
    {
     "data": {
      "text/plain": [
       "298"
      ]
     },
     "execution_count": 94,
     "metadata": {},
     "output_type": "execute_result"
    }
   ],
   "source": [
    "burnin = 1000\n",
    "start = int(trace['switchpoint1'][burnin:].max(axis=0))\n",
    "start"
   ]
  },
  {
   "cell_type": "code",
   "execution_count": 95,
   "metadata": {
    "collapsed": false
   },
   "outputs": [
    {
     "data": {
      "text/plain": [
       "590"
      ]
     },
     "execution_count": 95,
     "metadata": {},
     "output_type": "execute_result"
    }
   ],
   "source": [
    "end = int(trace['switchpoint2'][burnin:].min(axis=0))\n",
    "end"
   ]
  },
  {
   "cell_type": "code",
   "execution_count": 128,
   "metadata": {
    "collapsed": false
   },
   "outputs": [
    {
     "name": "stdout",
     "output_type": "stream",
     "text": [
      "0-Mn-fw-EM-28.seq 2\n",
      "0-Mn-fw-r1-EM-28.seq 162\n",
      "0-Mn-fw-r2-EM-28.seq 157\n",
      "0-Mn-fw-r3-EM-28.seq 162\n",
      "10-Mn-fw-r1-EM-28.seq 170\n",
      "10-Mn-fw-r3-EM-28.seq 165\n",
      "15-Mn-fw-EM-28.seq 77\n",
      "20-Mn-fw-r1-EM-28.seq 161\n",
      "20-Mn-fw-r2-EM-28.seq 164\n",
      "20-Mn-fw-r3-EM-28.seq 161\n",
      "25-Mn-fw-EM-28.seq 56\n",
      "25-Mn-fw-r1-EM-28.seq 169\n",
      "25-Mn-fw-r2-EM-28.seq 110\n",
      "25-Mn-fw-r3-EM-28.seq 147\n",
      "30-Mn-fw-EM-28.seq 55\n",
      "30-Mn-fw-r1-EM-28.seq 130\n",
      "30-Mn-fw-r2-EM-28.seq 147\n",
      "30-Mn-fw-r3-EM-28.seq 132\n",
      "35-Mn-fw-EM-28.seq 59\n",
      "35-Mn-fw-r1-EM-28.seq 152\n",
      "35-Mn-fw-r2-EM-28.seq 140\n",
      "35-Mn-fw-r3-EM-28.seq 122\n",
      "40-Mn-fw-r1-EM-28.seq 157\n",
      "40-Mn-fw-r2-EM-28.seq 164\n",
      "50-Mn-fw-r1-EM-28.seq 138\n",
      "50-Mn-fw-r2-EM-28.seq 101\n",
      "50-Mn-fw-r3-EM-28.seq 111\n",
      "55-Mn-fw-EM-28.seq 9\n"
     ]
    }
   ],
   "source": [
    "aln_trimmed = aln[:, start:end]\n",
    "concs = []\n",
    "muts = []\n",
    "for i in range(len(aln_trimmed) - 1):\n",
    "    dist = distance(str(aln_trimmed[i].seq), str(aln_trimmed[-1].seq))\n",
    "    print(aln_trimmed[i].id, dist)\n",
    "    \n",
    "    concs.append(int(aln_trimmed[i].id.split('-')[0])/100)\n",
    "    muts.append(dist)"
   ]
  },
  {
   "cell_type": "code",
   "execution_count": 105,
   "metadata": {
    "collapsed": false,
    "scrolled": true
   },
   "outputs": [
    {
     "data": {
      "text/plain": [
       "<matplotlib.text.Text at 0x139c5fc18>"
      ]
     },
     "execution_count": 105,
     "metadata": {},
     "output_type": "execute_result"
    },
    {
     "data": {
      "image/png": "[encoded data removed]",
      "text/plain": [
       "<matplotlib.figure.Figure at 0x13acb89b0>"
      ]
     },
     "metadata": {},
     "output_type": "display_data"
    }
   ],
   "source": [
    "plt.scatter(x=concs, y=muts)\n",
    "# plt.plot(concs, muts)\n",
    "plt.ylabel('Num Mutations Relative to Original')\n",
    "plt.xlabel('$\\mathregular{[Mn^{2+}]}$ mM')"
   ]
  },
  {
   "cell_type": "code",
   "execution_count": 99,
   "metadata": {
    "collapsed": true
   },
   "outputs": [],
   "source": [
    "import pymc3 as pm"
   ]
  },
  {
   "cell_type": "code",
   "execution_count": 117,
   "metadata": {
    "collapsed": false
   },
   "outputs": [
    {
     "data": {
      "text/plain": [
       "[0,\n",
       " 0,\n",
       " 0,\n",
       " 0,\n",
       " 1,\n",
       " 1,\n",
       " 2,\n",
       " 3,\n",
       " 3,\n",
       " 3,\n",
       " 4,\n",
       " 4,\n",
       " 4,\n",
       " 4,\n",
       " 5,\n",
       " 5,\n",
       " 5,\n",
       " 5,\n",
       " 6,\n",
       " 6,\n",
       " 6,\n",
       " 6,\n",
       " 7,\n",
       " 7,\n",
       " 8,\n",
       " 8,\n",
       " 8,\n",
       " 9]"
      ]
     },
     "execution_count": 117,
     "metadata": {},
     "output_type": "execute_result"
    }
   ],
   "source": [
    "sorted_concs = sorted(list(set(concs)))\n",
    "indices = dict()\n",
    "for i, c in enumerate(sorted_concs):\n",
    "    concs_idx[c] = i\n",
    "    \n",
    "indices = []\n",
    "for c in concs:\n",
    "    indices.append(concs_idx[c])\n",
    "indices"
   ]
  },
  {
   "cell_type": "code",
   "execution_count": 119,
   "metadata": {
    "collapsed": false
   },
   "outputs": [],
   "source": [
    "with pm.Model() as model:\n",
    "    num_mutations = pm.Uniform('num_mutations', 0, 1000, shape=len(sorted_concs))\n",
    "    variance = pm.HalfCauchy('variance', beta=1, shape=len(sorted_concs))\n",
    "    \n",
    "    mu = num_mutations[indices]\n",
    "    sig = variance[indices]\n",
    "    \n",
    "    like = pm.Normal('likelihood', mu=mu, sd=sig, observed=muts)  \n",
    "    "
   ]
  },
  {
   "cell_type": "code",
   "execution_count": 124,
   "metadata": {
    "collapsed": false
   },
   "outputs": [
    {
     "name": "stdout",
     "output_type": "stream",
     "text": [
      "Iteration 0 [0%]: ELBO = -24503697.98\n",
      "Iteration 10000 [10%]: Average ELBO = -2108444.96\n",
      "Iteration 20000 [20%]: Average ELBO = -343.18\n",
      "Iteration 30000 [30%]: Average ELBO = -193.28\n",
      "Iteration 40000 [40%]: Average ELBO = -189.4\n",
      "Iteration 50000 [50%]: Average ELBO = -187.63\n",
      "Iteration 60000 [60%]: Average ELBO = -186.5\n",
      "Iteration 70000 [70%]: Average ELBO = -186.15\n",
      "Iteration 80000 [80%]: Average ELBO = -185.85\n",
      "Iteration 90000 [90%]: Average ELBO = -185.57\n",
      "Finished [100%]: Average ELBO = -185.87\n"
     ]
    }
   ],
   "source": [
    "with model:\n",
    "    params = pm.variational.advi(n=100000)\n",
    "    trace = pm.variational.sample_vp(params, draws=10000,)\n",
    "    "
   ]
  },
  {
   "cell_type": "code",
   "execution_count": 126,
   "metadata": {
    "collapsed": false
   },
   "outputs": [
    {
     "data": {
      "text/plain": [
       "<matplotlib.gridspec.GridSpec at 0x13df67b38>"
      ]
     },
     "execution_count": 126,
     "metadata": {},
     "output_type": "execute_result"
    },
    {
     "data": {
      "image/png": "[encoded data removed]",
      "text/plain": [
       "<matplotlib.figure.Figure at 0x13e6e9cc0>"
      ]
     },
     "metadata": {},
     "output_type": "display_data"
    }
   ],
   "source": [
    "pm.forestplot(trace)"
   ]
  },
  {
   "cell_type": "code",
   "execution_count": null,
   "metadata": {
    "collapsed": true
   },
   "outputs": [],
   "source": []
  }
 ],
 "metadata": {
  "anaconda-cloud": {},
  "kernelspec": {
   "display_name": "Python [Root]",
   "language": "python",
   "name": "Python [Root]"
  },
  "language_info": {
   "codemirror_mode": {
    "name": "ipython",
    "version": 3
   },
   "file_extension": ".py",
   "mimetype": "text/x-python",
   "name": "python",
   "nbconvert_exporter": "python",
   "pygments_lexer": "ipython3",
   "version": "3.5.2"
  }
 },
 "nbformat": 4,
 "nbformat_minor": 0
}
