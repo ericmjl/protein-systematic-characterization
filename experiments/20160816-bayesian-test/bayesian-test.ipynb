{
 "cells": [
  {
   "cell_type": "code",
   "execution_count": 1,
   "metadata": {
    "collapsed": true
   },
   "outputs": [],
   "source": [
    "import pymc3 as pm\n",
    "import numpy as np"
   ]
  },
  {
   "cell_type": "code",
   "execution_count": null,
   "metadata": {
    "collapsed": false
   },
   "outputs": [
    {
     "name": "stdout",
     "output_type": "stream",
     "text": [
      "Applied interval-transform to mu and added transformed mu_interval_ to model.\n",
      "Applied interval-transform to sig and added transformed sig_interval_ to model.\n"
     ]
    }
   ],
   "source": [
    "r = list(range(2, 15))\n",
    "lowers = np.zeros(shape=len(r))\n",
    "uppers = np.zeros(shape=len(r))\n",
    "for i, size in enumerate(r):\n",
    "    data = np.random.normal(loc=100, scale=1, size=size)\n",
    "    with pm.Model() as model:\n",
    "        mu = pm.Uniform('mu', -10000, 10000)  # Really uninformative priors\n",
    "        sig = pm.Uniform('sig', 0, 10000)\n",
    "        # mu = pm.Flat('mu')\n",
    "        # sig = pm.Exponential('sigma', lam=5)\n",
    "\n",
    "        like = pm.Normal('likelihood', mu=mu, sd=sig, observed=data)\n",
    "\n",
    "        trace = pm.sample(2000, start=pm.find_MAP(), step=pm.NUTS())\n",
    "        \n",
    "        lower, upper = np.percentile(trace.mu, [2.5, 97.5])\n",
    "        \n",
    "    lowers[i] = lower\n",
    "    uppers[i] = upper"
   ]
  },
  {
   "cell_type": "code",
   "execution_count": 4,
   "metadata": {
    "collapsed": false
   },
   "outputs": [
    {
     "data": {
      "text/plain": [
       "array([ 99.03550839,  99.10619973,  98.20174824,  98.63230022,\n",
       "        99.66091112,  99.67775196])"
      ]
     },
     "execution_count": 4,
     "metadata": {},
     "output_type": "execute_result"
    }
   ],
   "source": [
    "lowers"
   ]
  },
  {
   "cell_type": "code",
   "execution_count": 5,
   "metadata": {
    "collapsed": false
   },
   "outputs": [
    {
     "data": {
      "text/plain": [
       "array([ 101.69052996,  101.07214142,   99.26785045,  100.39052116,\n",
       "        101.37915455,  100.6889667 ])"
      ]
     },
     "execution_count": 5,
     "metadata": {},
     "output_type": "execute_result"
    }
   ],
   "source": [
    "uppers"
   ]
  },
  {
   "cell_type": "code",
   "execution_count": 6,
   "metadata": {
    "collapsed": false
   },
   "outputs": [
    {
     "data": {
      "text/plain": [
       "array([ 2.65502157,  1.96594169,  1.06610221,  1.75822094,  1.71824344,\n",
       "        1.01121474])"
      ]
     },
     "execution_count": 6,
     "metadata": {},
     "output_type": "execute_result"
    }
   ],
   "source": [
    "uppers - lowers"
   ]
  },
  {
   "cell_type": "code",
   "execution_count": 7,
   "metadata": {
    "collapsed": false
   },
   "outputs": [
    {
     "data": {
      "text/plain": [
       "<matplotlib.text.Text at 0x121ca5320>"
      ]
     },
     "execution_count": 7,
     "metadata": {},
     "output_type": "execute_result"
    },
    {
     "data": {
      "image/png": "[encoded data removed]",
      "text/plain": [
       "<matplotlib.figure.Figure at 0x101c35ba8>"
      ]
     },
     "metadata": {},
     "output_type": "display_data"
    }
   ],
   "source": [
    "import matplotlib.pyplot as plt\n",
    "%matplotlib inline\n",
    "\n",
    "# plt.bar(np.arange(len(uppers))+2, (uppers + lowers) / 2)\n",
    "plt.errorbar(np.arange(len(uppers))+2.5, (uppers + lowers) / 2, yerr=(uppers - lowers), marker='o', ls='none')\n",
    "plt.ylabel('Estimated Mean')\n",
    "plt.xlabel('Number of Samples')\n",
    "# plt.xlim(2, len(uppers)+2)\n",
    "# plt.yscale('log')\n",
    "# plt.ylim(0, 20)"
   ]
  },
  {
   "cell_type": "markdown",
   "metadata": {},
   "source": [
    "How to decide how many samples? When does the 95% HPD converge? When is the HPD width some percentage? Is this a qualitative, rather than quantitative decision?"
   ]
  },
  {
   "cell_type": "code",
   "execution_count": null,
   "metadata": {
    "collapsed": true
   },
   "outputs": [],
   "source": []
  },
  {
   "cell_type": "code",
   "execution_count": null,
   "metadata": {
    "collapsed": true
   },
   "outputs": [],
   "source": []
  }
 ],
 "metadata": {
  "kernelspec": {
   "display_name": "Python 3",
   "language": "python",
   "name": "python3"
  },
  "language_info": {
   "codemirror_mode": {
    "name": "ipython",
    "version": 3
   },
   "file_extension": ".py",
   "mimetype": "text/x-python",
   "name": "python",
   "nbconvert_exporter": "python",
   "pygments_lexer": "ipython3",
   "version": "3.5.2"
  }
 },
 "nbformat": 4,
 "nbformat_minor": 0
}
