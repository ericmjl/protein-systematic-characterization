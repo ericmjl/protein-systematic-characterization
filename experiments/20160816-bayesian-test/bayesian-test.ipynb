{
 "cells": [
  {
   "cell_type": "code",
   "execution_count": 67,
   "metadata": {
    "collapsed": true
   },
   "outputs": [],
   "source": [
    "import pymc3 as pm\n",
    "import numpy as np"
   ]
  },
  {
   "cell_type": "code",
   "execution_count": 75,
   "metadata": {
    "collapsed": false
   },
   "outputs": [
    {
     "name": "stdout",
     "output_type": "stream",
     "text": [
      "Applied interval-transform to mu and added transformed mu_interval_ to model.\n",
      "Applied interval-transform to sigma and added transformed sigma_interval_ to model.\n",
      " [-----------------100%-----------------] 2000 of 2000 complete in 3.2 secApplied interval-transform to mu and added transformed mu_interval_ to model.\n",
      "Applied interval-transform to sigma and added transformed sigma_interval_ to model.\n",
      " [-----------------100%-----------------] 2000 of 2000 complete in 5.4 secApplied interval-transform to mu and added transformed mu_interval_ to model.\n",
      "Applied interval-transform to sigma and added transformed sigma_interval_ to model.\n",
      " [-----------------100%-----------------] 2000 of 2000 complete in 9.1 secApplied interval-transform to mu and added transformed mu_interval_ to model.\n",
      "Applied interval-transform to sigma and added transformed sigma_interval_ to model.\n",
      " [-----------------100%-----------------] 2000 of 2000 complete in 13.5 secApplied interval-transform to mu and added transformed mu_interval_ to model.\n",
      "Applied interval-transform to sigma and added transformed sigma_interval_ to model.\n",
      " [-----------------100%-----------------] 2000 of 2000 complete in 9.8 secApplied interval-transform to mu and added transformed mu_interval_ to model.\n",
      "Applied interval-transform to sigma and added transformed sigma_interval_ to model.\n",
      " [-----------------100%-----------------] 2000 of 2000 complete in 5.8 secApplied interval-transform to mu and added transformed mu_interval_ to model.\n",
      "Applied interval-transform to sigma and added transformed sigma_interval_ to model.\n",
      " [-----------------100%-----------------] 2000 of 2000 complete in 10.4 secApplied interval-transform to mu and added transformed mu_interval_ to model.\n",
      "Applied interval-transform to sigma and added transformed sigma_interval_ to model.\n",
      " [-----------------100%-----------------] 2000 of 2000 complete in 10.7 secApplied interval-transform to mu and added transformed mu_interval_ to model.\n",
      "Applied interval-transform to sigma and added transformed sigma_interval_ to model.\n",
      " [-----------------100%-----------------] 2000 of 2000 complete in 10.7 secApplied interval-transform to mu and added transformed mu_interval_ to model.\n",
      "Applied interval-transform to sigma and added transformed sigma_interval_ to model.\n",
      " [-----------------100%-----------------] 2000 of 2000 complete in 11.9 secApplied interval-transform to mu and added transformed mu_interval_ to model.\n",
      "Applied interval-transform to sigma and added transformed sigma_interval_ to model.\n",
      " [-----------------100%-----------------] 2000 of 2000 complete in 9.6 secApplied interval-transform to mu and added transformed mu_interval_ to model.\n",
      "Applied interval-transform to sigma and added transformed sigma_interval_ to model.\n",
      " [-----------------100%-----------------] 2000 of 2000 complete in 11.4 secApplied interval-transform to mu and added transformed mu_interval_ to model.\n",
      "Applied interval-transform to sigma and added transformed sigma_interval_ to model.\n",
      " [-----------------100%-----------------] 2000 of 2000 complete in 10.5 sec"
     ]
    }
   ],
   "source": [
    "r = list(range(2, 15))\n",
    "lowers = np.zeros(shape=len(r))\n",
    "uppers = np.zeros(shape=len(r))\n",
    "for i, size in enumerate(r):\n",
    "    data = np.random.normal(loc=100, scale=1, size=size)\n",
    "    with pm.Model() as model:\n",
    "        mu = pm.Uniform('mu', -1000, 1000)  # Really uninformative priors\n",
    "        sig = pm.Uniform('sigma', 0, 100)\n",
    "\n",
    "        like = pm.Normal('likelihood', mu=mu, sd=sig, observed=data)\n",
    "\n",
    "        trace = pm.sample(2000, start=pm.find_MAP(), step=pm.NUTS())\n",
    "        \n",
    "        lower, upper = np.percentile(trace.mu, [2.5, 97.5])\n",
    "        \n",
    "    lowers[i] = lower\n",
    "    uppers[i] = upper"
   ]
  },
  {
   "cell_type": "code",
   "execution_count": 76,
   "metadata": {
    "collapsed": false
   },
   "outputs": [
    {
     "data": {
      "text/plain": [
       "array([ 20.25101867,  83.30474709,  93.23889105,  99.14807261,\n",
       "        98.75842077,  97.00562841,  99.12424288,  99.06295667,\n",
       "        99.10656553,  99.18848583,  99.30002741,  99.24151903,  99.45787664])"
      ]
     },
     "execution_count": 76,
     "metadata": {},
     "output_type": "execute_result"
    }
   ],
   "source": [
    "lowers"
   ]
  },
  {
   "cell_type": "code",
   "execution_count": 77,
   "metadata": {
    "collapsed": false
   },
   "outputs": [
    {
     "data": {
      "text/plain": [
       "array([ 192.77864383,  123.61322512,  106.16145306,  102.16755721,\n",
       "        101.42020753,  101.68228056,  101.06385998,  100.70676635,\n",
       "        100.86803101,  100.36283363,  100.89139626,  100.31846923,\n",
       "        100.65917798])"
      ]
     },
     "execution_count": 77,
     "metadata": {},
     "output_type": "execute_result"
    }
   ],
   "source": [
    "uppers"
   ]
  },
  {
   "cell_type": "code",
   "execution_count": 78,
   "metadata": {
    "collapsed": false
   },
   "outputs": [
    {
     "data": {
      "text/plain": [
       "array([ 172.52762516,   40.30847803,   12.92256201,    3.01948459,\n",
       "          2.66178675,    4.67665215,    1.9396171 ,    1.64380968,\n",
       "          1.76146548,    1.1743478 ,    1.59136885,    1.0769502 ,\n",
       "          1.20130135])"
      ]
     },
     "execution_count": 78,
     "metadata": {},
     "output_type": "execute_result"
    }
   ],
   "source": [
    "uppers - lowers"
   ]
  },
  {
   "cell_type": "code",
   "execution_count": 93,
   "metadata": {
    "collapsed": false
   },
   "outputs": [
    {
     "data": {
      "text/plain": [
       "<matplotlib.text.Text at 0x2299f4b70>"
      ]
     },
     "execution_count": 93,
     "metadata": {},
     "output_type": "execute_result"
    },
    {
     "data": {
      "image/png": "[encoded data removed]",
      "text/plain": [
       "<matplotlib.figure.Figure at 0x229c035f8>"
      ]
     },
     "metadata": {},
     "output_type": "display_data"
    }
   ],
   "source": [
    "import matplotlib.pyplot as plt\n",
    "%matplotlib inline\n",
    "\n",
    "# plt.bar(np.arange(len(uppers))+2, (uppers + lowers) / 2)\n",
    "plt.errorbar(np.arange(len(uppers))+2.5, (uppers + lowers) / 2, yerr=(uppers - lowers), marker='o', ls='none')\n",
    "plt.ylabel('Estimated Mean')\n",
    "plt.xlabel('Number of Samples')\n",
    "# plt.xlim(2, len(uppers)+2)\n",
    "# plt.yscale('log')\n",
    "# plt.ylim(0, 20)"
   ]
  },
  {
   "cell_type": "markdown",
   "metadata": {},
   "source": [
    "How to decide how many samples? When does the 95% HPD converge? When is the HPD width some percentage? Is this a qualitative, rather than quantitative decision?"
   ]
  },
  {
   "cell_type": "code",
   "execution_count": null,
   "metadata": {
    "collapsed": true
   },
   "outputs": [],
   "source": []
  }
 ],
 "metadata": {
  "kernelspec": {
   "display_name": "Python 3",
   "language": "python",
   "name": "python3"
  },
  "language_info": {
   "codemirror_mode": {
    "name": "ipython",
    "version": 3
   },
   "file_extension": ".py",
   "mimetype": "text/x-python",
   "name": "python",
   "nbconvert_exporter": "python",
   "pygments_lexer": "ipython3",
   "version": "3.5.2"
  }
 },
 "nbformat": 4,
 "nbformat_minor": 0
}
