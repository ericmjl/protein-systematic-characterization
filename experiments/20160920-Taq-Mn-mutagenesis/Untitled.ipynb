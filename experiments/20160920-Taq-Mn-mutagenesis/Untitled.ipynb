{
 "cells": [
  {
   "cell_type": "code",
   "execution_count": 1,
   "metadata": {
    "collapsed": true
   },
   "outputs": [],
   "source": [
    "import Bio"
   ]
  },
  {
   "cell_type": "code",
   "execution_count": 3,
   "metadata": {
    "collapsed": false
   },
   "outputs": [],
   "source": [
    "string = \"CNNNNNAANGNGNANNNNAANTCNTNNNNNNNNAACTNNNNNNNNNNNNNNNNNNNCNTAATNCNCCGNNCNTAGGNNNNNNNGGAGATTAACGGTCCTGAGTCGGTTTTGGTCAATACCTATCAATGGATCATCAGAAATTGGGAAGCTGTCAAAATTCAATGGTCTCAGAATCCTGCAATGTTGTACAACAAAATGGAATTTGAACCATTTCAATCTTTAGTCCCCAAGGCCATTAGAAGCCAATACAGTGGGTTTGTCAGAACTCTATTCCAACAAATGAGAGACGTACTTGGGACATTTGACACTGCCCAGATAATAAAGCTTCTCCCTTTTGCAGCTGCTCCACCGAAGCAAAGCAGAATGCAGTTCTCTTCACTGACTGTGAATGTGAGGGGATCAGGGATGAGAATACTTGTAAGGGGCAATTCTCCTGTATTCAACTACAACAAAACCACTAAAAGGCTAACAATTCTCGGAAAAGATGCCGGCACTTTAATTGAAGACCCANATGAAAGCACATCAGGAGTGGAGTCCGCCGTCTTGAGAGGGTTCCTCATTATAGGTAAGGAAGACAGAANATACGGACCANCATTAANCATCAATGAACTGAGTAACCTTGCAAAAGGGGAAAAGGNTAATGTGCTAATCGGGCANGGAGACGTGNTGTTGGTAATGANACNTAAANCGGGACTCTAGCATACTNTNGTGACACTCACACAGCNACGNGNATNANTNNAGATNNNNCATNNANNNAAATCNNGNNNNCCTCNTANNAGNCCNNCACNGGGCGGCCCGCCTTCGAGCANNNNNGATNANNNACATTTGACTNNANNNTNGNACNNNCNNNNNTANNNNNNATGNGNAAANANNATGCTTNCATTTGNNNANNTNNNNNNANGNCNNNNNNN\""
   ]
  },
  {
   "cell_type": "code",
   "execution_count": 4,
   "metadata": {
    "collapsed": false
   },
   "outputs": [
    {
     "data": {
      "text/plain": [
       "'NNNNNNNCNGNANNNNNNTNNANNNGTTTACNTTCGTANNANAAANGNGTANNNNNNATNNNNNCNNNCANGNTNNNANNTCAGTTTACANNNANTAGNNNNNACGAGCTTCCGCCCGGCGGGNCACNNCCNGANNATNCTCCNNNNGNNCTAAANNNANNTACNNNNTAGANNTNANTANGNGCANCGACACACTCACAGTGNTNTCATACGATCTCAGGGCNAAATNCANAGTAATGGTTGTNGTGCAGAGGNACGGGCTAATCGTGTAATNGGAAAAGGGGAAAACGTTCCAATGAGTCAAGTAACTACNAATTACNACCAGGCATANAAGACAGAAGGAATGGATATTACTCCTTGGGAGAGTTCTGCCGCCTGAGGTGAGGACTACACGAAAGTANACCCAGAAGTTAATTTCACGGCCGTAGAAAAGGCTCTTAACAATCGGAAAATCACCAAAACAACATCAACTTATGTCCTCTTAACGGGGAATGTTCATAAGAGTAGGGACTAGGGGAGTGTAAGTGTCAGTCACTTCTCTTGACGTAAGACGAAACGAAGCCACCTCGTCGACGTTTTCCCTCTTCGAAATAATAGACCCGTCACAGTTTACAGGGTTCATGCAGAGAGTAAACAACCTTATCTCAAGACTGTTTGGGTGACATAACCGAAGATTACCGGAACCCCTGATTTCTAACTTTACCAAGTTTAAGGTAAAACAACATGTTGTAACGTCCTAAGACTCTGGTAACTTAAAACTGTCGAAGGGTTAAAGACTACTAGGTAACTATCCATAACTGGTTTTGGCTGAGTCCTGGCAATTAGAGGNNNNNNNGGATNCNNGCCNCNTAATNCNNNNNNNNNNNNNNNNNNNTCAANNNNNNNNTNCTNAANNNNANGNGNAANNNNNC'"
      ]
     },
     "execution_count": 4,
     "metadata": {},
     "output_type": "execute_result"
    }
   ],
   "source": [
    "string[::-1]\n"
   ]
  },
  {
   "cell_type": "code",
   "execution_count": 5,
   "metadata": {
    "collapsed": false
   },
   "outputs": [
    {
     "ename": "AttributeError",
     "evalue": "'str' object has no attribute 'reverse_complement'",
     "output_type": "error",
     "traceback": [
      "\u001b[0;31m---------------------------------------------------------------------------\u001b[0m",
      "\u001b[0;31mAttributeError\u001b[0m                            Traceback (most recent call last)",
      "\u001b[0;32m<ipython-input-5-d9493575d6e3>\u001b[0m in \u001b[0;36m<module>\u001b[0;34m()\u001b[0m\n\u001b[0;32m----> 1\u001b[0;31m \u001b[0mstring\u001b[0m\u001b[1;33m.\u001b[0m\u001b[0mreverse_complement\u001b[0m\u001b[1;33m(\u001b[0m\u001b[1;33m)\u001b[0m\u001b[1;33m\u001b[0m\u001b[0m\n\u001b[0m",
      "\u001b[0;31mAttributeError\u001b[0m: 'str' object has no attribute 'reverse_complement'"
     ]
    }
   ],
   "source": [
    "string.reverse_complement()\n"
   ]
  },
  {
   "cell_type": "code",
   "execution_count": 6,
   "metadata": {
    "collapsed": true
   },
   "outputs": [],
   "source": [
    "from Bio.Seq import Seq\n"
   ]
  },
  {
   "cell_type": "code",
   "execution_count": 7,
   "metadata": {
    "collapsed": false
   },
   "outputs": [
    {
     "ename": "AttributeError",
     "evalue": "'str' object has no attribute 'reverse_complement'",
     "output_type": "error",
     "traceback": [
      "\u001b[0;31m---------------------------------------------------------------------------\u001b[0m",
      "\u001b[0;31mAttributeError\u001b[0m                            Traceback (most recent call last)",
      "\u001b[0;32m<ipython-input-7-d9493575d6e3>\u001b[0m in \u001b[0;36m<module>\u001b[0;34m()\u001b[0m\n\u001b[0;32m----> 1\u001b[0;31m \u001b[0mstring\u001b[0m\u001b[1;33m.\u001b[0m\u001b[0mreverse_complement\u001b[0m\u001b[1;33m(\u001b[0m\u001b[1;33m)\u001b[0m\u001b[1;33m\u001b[0m\u001b[0m\n\u001b[0m",
      "\u001b[0;31mAttributeError\u001b[0m: 'str' object has no attribute 'reverse_complement'"
     ]
    }
   ],
   "source": [
    "string.reverse_complement()\n"
   ]
  },
  {
   "cell_type": "code",
   "execution_count": 8,
   "metadata": {
    "collapsed": true
   },
   "outputs": [],
   "source": [
    "seq = Seq(string)"
   ]
  },
  {
   "cell_type": "code",
   "execution_count": 9,
   "metadata": {
    "collapsed": false
   },
   "outputs": [
    {
     "data": {
      "text/plain": [
       "Seq('NNNNNNNGNCNTNNNNNNANNTNNNCAAATGNAAGCATNNTNTTTNCNCATNNN...NNG', Alphabet())"
      ]
     },
     "execution_count": 9,
     "metadata": {},
     "output_type": "execute_result"
    }
   ],
   "source": [
    "seq.reverse_complement()\n"
   ]
  },
  {
   "cell_type": "code",
   "execution_count": null,
   "metadata": {
    "collapsed": true
   },
   "outputs": [],
   "source": []
  }
 ],
 "metadata": {
  "anaconda-cloud": {},
  "kernelspec": {
   "display_name": "Python [Root]",
   "language": "python",
   "name": "Python [Root]"
  },
  "language_info": {
   "codemirror_mode": {
    "name": "ipython",
    "version": 3
   },
   "file_extension": ".py",
   "mimetype": "text/x-python",
   "name": "python",
   "nbconvert_exporter": "python",
   "pygments_lexer": "ipython3",
   "version": "3.5.2"
  }
 },
 "nbformat": 4,
 "nbformat_minor": 0
}
