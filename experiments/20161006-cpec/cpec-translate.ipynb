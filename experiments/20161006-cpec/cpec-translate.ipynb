{
 "cells": [
  {
   "cell_type": "code",
   "execution_count": 13,
   "metadata": {
    "collapsed": false,
    "scrolled": true
   },
   "outputs": [
    {
     "name": "stdout",
     "output_type": "stream",
     "text": [
      "SingleLetterAlphabet() alignment with 8 rows and 800 columns\n",
      "NGNNNNTAANTTNTNNNNNCN--CTNNNNNNNANAGTGGGAGAT...TAA vic-pb2-cpec-L16-f-vic-EM28_G11.ab1\n",
      "NGNNNNTAAN-TTANNNNTCNTN-NNNNNNNNNNNNNGGGAGAT...TAA vic-pb2-cpec-L11-f-vic-EM28_F11.ab1\n",
      "NNACAATAACTTANNNNNNCNNNCNNNNN-NNNNNNNNGGAGAT...TAA vic-pb2-cpec-L1-f-vic-EM28_A11.ab1\n",
      "NGANANNNNNNTNTNNNNTCGNNCNNNANGNNNNNNNNGGAGAT...TAA vic-pb2-cpec-L6-f-vic-EM28_D11.ab1\n",
      "NGNCNNTAANNTNNNNNNNCGNNCNGNANGNNNNNN-NNGAGAT...TAA vic-pb2-cpec-L3-f-vic-EM28_B11.ab1\n",
      "NGNCNNTAANNTNTNNNNNCGCNCNNNANNN-NNNN-NGGAGAT...TAA vic-pb2-cpec-L4-f-vic-EM28_C11.ab1\n",
      "TGACAATAACTTAT----TCA--TCGTCGATGA-TGTGGGAGAT...--- A/Victoria/361/2011|KJ942687\n",
      "NGACAATTACTTAT----TNN--TCGTCGANGANNGNGGGAGAT...--- vic-pb2-cpec-L10-f-vic-EM28_E11.ab1\n"
     ]
    }
   ],
   "source": [
    "from Bio import AlignIO\n",
    "#Alignment conducted with multiple alignment tool @ http://www.ebi.ac.uk/Tools/msa/clustalo/\n",
    "aln = AlignIO.read('cpec-align.clustal', 'clustal')\n",
    "print(aln[:, -1000:-200])"
   ]
  },
  {
   "cell_type": "code",
   "execution_count": null,
   "metadata": {
    "collapsed": false
   },
   "outputs": [],
   "source": []
  },
  {
   "cell_type": "code",
   "execution_count": 117,
   "metadata": {
    "collapsed": false
   },
   "outputs": [
    {
     "data": {
      "text/plain": [
       "'---------------------------------------------------------------------------------------------------------------------------------------------------------------------------------------------------------------------------------------------------------------------------------------------------------------------------------------------------------------------------------------------------------------------------------------------------------------------------------------------------------------------------------------------------------------------------------------------------------------------------------------------------------------------------------------------------------------------------------------------------------------------------------------------------------------------------------------------------------------------------------------------------------------------------------------------------------------------------------------------------------------------------------------------------------------------------------------------------------------------------------------------------------------------------------------------------------------------------------------------------------------------------------------------------------------------------------------------------------------------------------------------------------------------------------------------------------------------------------------------------------------------------------------------------------------------------------------------------------------------------------------------------------NNNNNNANGNNCTNGNNNNTAANTTNTNNNNNCN--CTNNNNNNNANAGTGGGAGATTAACGGTCCTGAGTCGGTTTTGGTCAATACCTATCAATGGATCATCAGAAATTGGGAAGCTGTCAAAATTCAATGGTCTCAGAATCCTGCAATGTTGTACAACAAAATGGAATTTGAACCATTTCAATCTTTAGTCCCCAAGGCCACTAGAAGCCAATACAGTGGGTTTGTCAGAACTCTATTCCAACAAATGAGAGACGTACTTGGGACATTTGACACTGCCCAGATAATAAAGCTTCTCCCG-TTGCAGCTGCTCCACCGAAGCGAAGCAGAATGCAGTTCTCTTAACTGACTGTGAATGTGAGGGGATCAGGGATGAGAATACTTGTAAGGGGCAATTCTCCTGTATTCAACTACAACAAAACCAGTAAAAGGCTAACAATTCTCGGAAAAGATGCCGGCACTTTAATTGAAGACCCAGATGAAAGCACATCAGGAGTGGAGTCCGCCGTCTTGAGAGGGTTCCTCATT-ATAGGTAAGGAAGACAGGAGATATGGACCAGCATTGAGCATCAATGAACTGAGTAACCTTGCAAAAGGGGAAAAGGCTAATGTGCTAATCGGGCAAG--GAGACGTGGTGTTGGTAATGAAACGAAAACGGGAACTCTAGCATACTTACTGACAGCCAGACAGCGACCAAAAAGAATTCGGATGGNNNTCAATTAATGCTGAATAGNTTAAAAACGACCTTGTTTCNANACGCGTGNTACCTCTAGAGTCGANCCGGGCCGNCNCTTCNAGANA--NTGATAAGATACATNTGNTGANTTNGGACANAC-ATAACTAGTAAGGCNNNGAAAAAAATGNCTCTATTGNNANCT------TGCTGATG---------------------------------------------------------------------------------------------------------------------'"
      ]
     },
     "execution_count": 117,
     "metadata": {},
     "output_type": "execute_result"
    }
   ],
   "source": [
    "L16 = aln[0]\n",
    "L11 = aln[1]\n",
    "L1 = aln[2]\n",
    "L6 = aln[3]\n",
    "L3 = aln[4]\n",
    "L4 = aln[5]\n",
    "\n",
    "L10 = aln[7]\n",
    "vic = aln[6]\n",
    "\n",
    "\n",
    "str(L16.seq)"
   ]
  },
  {
   "cell_type": "code",
   "execution_count": 115,
   "metadata": {
    "collapsed": false
   },
   "outputs": [
    {
     "name": "stdout",
     "output_type": "stream",
     "text": [
      "1677 1894\n",
      "[1629, 1630, 1636, 1677, 1643, 1643] [1894, 2122, 2122, 2122, 2122, 2122]\n",
      "ID: vic-pb2-cpec-L16-f-vic-EM28_G11.ab1\n",
      "Name: <unknown name>\n",
      "Description: vic-pb2-cpec-L16-f-vic-EM28_G11.ab1\n",
      "Number of features: 0\n",
      "Seq('TACCTATCAATGGATCATCAGAAATTGGGAAGCTGTCAAAATTCAATGGTCTCA...CCG', SingleLetterAlphabet())\n",
      "{0: 162, 1: 161, 2: 161, 3: 160, 4: 162, 5: 161}\n",
      "ID: vic-pb2-cpec-L16-f-vic-EM28_G11.ab1\n",
      "Name: <unknown name>\n",
      "Description: vic-pb2-cpec-L16-f-vic-EM28_G11.ab1\n",
      "Number of features: 0\n",
      "Seq('TACCTATCAATGGATCATCAGAAATTGGGAAGCTGTCAAAATTCAATGGTCTCA...CCG', SingleLetterAlphabet())\n"
     ]
    }
   ],
   "source": [
    "\n",
    "def is_good(index, sequence):\n",
    "    good = 0\n",
    "    for next_base in sequence[index+1:index+200]: #200 chosen as large enough to ensure \n",
    "        if next_base != \"-\":\n",
    "            good += 1      \n",
    "    if good > 198:\n",
    "        return True\n",
    "def find_end(index, sequence):\n",
    "    for more_index, more_base in enumerate(sequence[index:]):\n",
    "        if more_base == \"-\":\n",
    "            return more_index\n",
    "    return False\n",
    "            \n",
    "\n",
    "\n",
    "start_list = []\n",
    "end_list = []\n",
    "\n",
    "for sequence in aln[0:6]:\n",
    "    for index, base in enumerate(sequence):\n",
    "        if base != \"-\":\n",
    "            if is_good(index, sequence):\n",
    " \n",
    "                start_list.append(index)\n",
    "                if find_end(index, sequence) != False:\n",
    "                    end_list.append(index + find_end(index, sequence))\n",
    "\n",
    "                break\n",
    "\n",
    "from collections import Counter\n",
    "data = Counter(end_list)\n",
    "end = 1894\n",
    "#end = data.most_common(1)[0][0] \n",
    "\n",
    "start = max(start_list)       \n",
    "\n",
    "print(start, end)      \n",
    "print(start_list, end_list)\n",
    "\n",
    "# trim_seq = []\n",
    "# for sequence in aln[0:6]:\n",
    "#     sequence = sequence[start:end]\n",
    "#     trim_seq.append(sequence)\n",
    "    \n",
    "def is_diff(mutant, vic = aln[6]):\n",
    "    num_mut = 0\n",
    "    where_mut = []\n",
    "    for base_index, base1 in enumerate(mutant[start:end]):\n",
    "        if base1 != vic[base_index]:\n",
    "            num_mut += 1\n",
    "            where_mut.append(base_index)\n",
    "\n",
    "    return num_mut\n",
    "mut_dict = dict([])\n",
    "seq_num = 0\n",
    "for sequence in aln[0:6]:\n",
    "    mut_dict[seq_num] = is_diff(sequence)\n",
    "    seq_num += 1\n",
    "print(L16[start:end])\n",
    "print(mut_dict)\n",
    "print(aln[0][start:end])\n",
    "list_vic = list(vic)\n",
    "vic_L16 = list_vic.copy()\n",
    "vic_L16[start:end] = list(aln[0])[start:end]\n",
    "\n",
    "#print(str(L16))\n",
    "                \n",
    "# from difflib import Differ\n",
    "\n",
    "# def is_diff(seq1, seq2)\n",
    "#     d = Differ()\n",
    "#     list(compare(seq1, seq2))\n",
    "\n",
    "    \n"
   ]
  },
  {
   "cell_type": "code",
   "execution_count": null,
   "metadata": {
    "collapsed": false
   },
   "outputs": [],
   "source": []
  },
  {
   "cell_type": "code",
   "execution_count": 101,
   "metadata": {
    "collapsed": false
   },
   "outputs": [
    {
     "data": {
      "text/plain": [
       "60"
      ]
     },
     "execution_count": 101,
     "metadata": {},
     "output_type": "execute_result"
    }
   ],
   "source": [
    "len(\"CGTCTTGAGAGGGTTCCTCATT-ATAGGTAAGGAAGACAGGAGATATGGACCAGCATTGA\")"
   ]
  },
  {
   "cell_type": "code",
   "execution_count": null,
   "metadata": {
    "collapsed": true
   },
   "outputs": [],
   "source": [
    "300"
   ]
  }
 ],
 "metadata": {
  "anaconda-cloud": {},
  "kernelspec": {
   "display_name": "Python [Root]",
   "language": "python",
   "name": "Python [Root]"
  },
  "language_info": {
   "codemirror_mode": {
    "name": "ipython",
    "version": 3
   },
   "file_extension": ".py",
   "mimetype": "text/x-python",
   "name": "python",
   "nbconvert_exporter": "python",
   "pygments_lexer": "ipython3",
   "version": "3.5.2"
  }
 },
 "nbformat": 4,
 "nbformat_minor": 0
}
