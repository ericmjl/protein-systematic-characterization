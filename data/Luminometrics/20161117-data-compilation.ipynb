{
 "cells": [
  {
   "cell_type": "code",
   "execution_count": 86,
   "metadata": {
    "collapsed": true
   },
   "outputs": [],
   "source": [
    "import pandas as pd\n",
    "import os"
   ]
  },
  {
   "cell_type": "code",
   "execution_count": 105,
   "metadata": {
    "collapsed": false
   },
   "outputs": [],
   "source": [
    "files = os.listdir()\n",
    "master_df = pd.DataFrame(columns = [\"SampleID\", \"Well\", \"Replicate\", \"Well Type\", \"Date\", \"Luminescence\", \"Normalized to Negative\", \"Vlumins\"])\n",
    "for file in files:\n",
    "    if file.endswith(\".csv\"):\n",
    "        df = pd.read_csv(file, index_col = \"SampleID\")\n",
    "        df[\"Luminescence\"] = df[\"Luminescence\"] + 1 - df[\"Luminescence\"].min()\n",
    "        #Negative control normalization to a Mock test\n",
    "        df[\"Normalized to Negative\"] = df[\"Luminescence\"]/df[\"Luminescence\"][\"Mock\"].values[0]\n",
    "        #Positive control normalization, calculates the normalized polymerase activity relative to pol activity in the Vic control \n",
    "        try:\n",
    "            df[\"Vlumins\"] = df[\"Normalized to Negative\"]/df[\"Normalized to Negative\"][\"Vic\"].values[0]\n",
    "        except:\n",
    "            df[\"Vlumins\"] = df[\"Normalized to Negative\"]/df[\"Normalized to Negative\"][\"Vic\"]\n",
    "        df = df.reset_index()\n",
    "        master_df = master_df.append(df, ignore_index = True)\n",
    "#Not currently overwriting...will fix asap\n",
    "master_df.to_csv(\"master_datafile.csv\")\n",
    "    "
   ]
  },
  {
   "cell_type": "code",
   "execution_count": null,
   "metadata": {
    "collapsed": false,
    "scrolled": false
   },
   "outputs": [],
   "source": []
  },
  {
   "cell_type": "code",
   "execution_count": null,
   "metadata": {
    "collapsed": false
   },
   "outputs": [],
   "source": []
  },
  {
   "cell_type": "code",
   "execution_count": null,
   "metadata": {
    "collapsed": true
   },
   "outputs": [],
   "source": [
    "#check for column names, number of rows"
   ]
  },
  {
   "cell_type": "code",
   "execution_count": null,
   "metadata": {
    "collapsed": false
   },
   "outputs": [],
   "source": []
  },
  {
   "cell_type": "code",
   "execution_count": 42,
   "metadata": {
    "collapsed": false
   },
   "outputs": [],
   "source": []
  },
  {
   "cell_type": "code",
   "execution_count": null,
   "metadata": {
    "collapsed": true
   },
   "outputs": [],
   "source": []
  }
 ],
 "metadata": {
  "kernelspec": {
   "display_name": "Python [Root]",
   "language": "python",
   "name": "Python [Root]"
  },
  "language_info": {
   "codemirror_mode": {
    "name": "ipython",
    "version": 3
   },
   "file_extension": ".py",
   "mimetype": "text/x-python",
   "name": "python",
   "nbconvert_exporter": "python",
   "pygments_lexer": "ipython3",
   "version": "3.5.2"
  }
 },
 "nbformat": 4,
 "nbformat_minor": 0
}
